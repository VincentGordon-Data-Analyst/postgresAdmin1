{
 "cells": [
  {
   "cell_type": "code",
   "execution_count": 1,
   "id": "a5ac814b",
   "metadata": {},
   "outputs": [],
   "source": [
    "# import libraries\n",
    "import numpy as np\n",
    "import pandas as pd\n",
    "import matplotlib\n",
    "import seaborn as sns\n",
    "import matplotlib.pyplot as plt"
   ]
  },
  {
   "cell_type": "code",
   "execution_count": 2,
   "id": "7e7c8a18",
   "metadata": {},
   "outputs": [
    {
     "data": {
      "text/html": [
       "<div>\n",
       "<style scoped>\n",
       "    .dataframe tbody tr th:only-of-type {\n",
       "        vertical-align: middle;\n",
       "    }\n",
       "\n",
       "    .dataframe tbody tr th {\n",
       "        vertical-align: top;\n",
       "    }\n",
       "\n",
       "    .dataframe thead th {\n",
       "        text-align: right;\n",
       "    }\n",
       "</style>\n",
       "<table border=\"1\" class=\"dataframe\">\n",
       "  <thead>\n",
       "    <tr style=\"text-align: right;\">\n",
       "      <th></th>\n",
       "      <th>Unnamed: 0</th>\n",
       "      <th>street</th>\n",
       "      <th>city</th>\n",
       "      <th>province</th>\n",
       "      <th>postal_code</th>\n",
       "      <th>fire_place</th>\n",
       "      <th>style</th>\n",
       "      <th>lat</th>\n",
       "      <th>lon</th>\n",
       "      <th>price</th>\n",
       "      <th>number_of_beds</th>\n",
       "      <th>number_of_baths</th>\n",
       "      <th>extra_space</th>\n",
       "    </tr>\n",
       "  </thead>\n",
       "  <tbody>\n",
       "    <tr>\n",
       "      <th>0</th>\n",
       "      <td>0</td>\n",
       "      <td>6 HONEYBOURNE CRES</td>\n",
       "      <td>Markham</td>\n",
       "      <td>Ontario</td>\n",
       "      <td>L3P 1P3</td>\n",
       "      <td>1</td>\n",
       "      <td>Detached</td>\n",
       "      <td>43.856371</td>\n",
       "      <td>-79.337682</td>\n",
       "      <td>2998000</td>\n",
       "      <td>5</td>\n",
       "      <td>8</td>\n",
       "      <td>1</td>\n",
       "    </tr>\n",
       "    <tr>\n",
       "      <th>1</th>\n",
       "      <td>1</td>\n",
       "      <td>83 BOARDWALK DR</td>\n",
       "      <td>Toronto</td>\n",
       "      <td>Ontario</td>\n",
       "      <td>M4L 3X9</td>\n",
       "      <td>1</td>\n",
       "      <td>Detached</td>\n",
       "      <td>43.670890</td>\n",
       "      <td>-79.316931</td>\n",
       "      <td>2599900</td>\n",
       "      <td>3</td>\n",
       "      <td>4</td>\n",
       "      <td>0</td>\n",
       "    </tr>\n",
       "    <tr>\n",
       "      <th>2</th>\n",
       "      <td>2</td>\n",
       "      <td>2158 PINEVIEW DR</td>\n",
       "      <td>Oakville</td>\n",
       "      <td>Ontario</td>\n",
       "      <td>L6H 5M3</td>\n",
       "      <td>1</td>\n",
       "      <td>Detached</td>\n",
       "      <td>43.447436</td>\n",
       "      <td>-79.666672</td>\n",
       "      <td>1999000</td>\n",
       "      <td>5</td>\n",
       "      <td>4</td>\n",
       "      <td>0</td>\n",
       "    </tr>\n",
       "    <tr>\n",
       "      <th>3</th>\n",
       "      <td>3</td>\n",
       "      <td>4078 HWY #6 Highway S</td>\n",
       "      <td>Mount Hope</td>\n",
       "      <td>Ontario</td>\n",
       "      <td>L0R 1W0</td>\n",
       "      <td>1</td>\n",
       "      <td>Detached</td>\n",
       "      <td>43.156141</td>\n",
       "      <td>-79.916180</td>\n",
       "      <td>1425000</td>\n",
       "      <td>3</td>\n",
       "      <td>3</td>\n",
       "      <td>0</td>\n",
       "    </tr>\n",
       "    <tr>\n",
       "      <th>4</th>\n",
       "      <td>4</td>\n",
       "      <td>12 HERCULES CLUB DR</td>\n",
       "      <td>Richmond Hill</td>\n",
       "      <td>Ontario</td>\n",
       "      <td>L4K 1K6</td>\n",
       "      <td>1</td>\n",
       "      <td>Townhouse</td>\n",
       "      <td>43.880117</td>\n",
       "      <td>-79.439292</td>\n",
       "      <td>1199000</td>\n",
       "      <td>3</td>\n",
       "      <td>3</td>\n",
       "      <td>0</td>\n",
       "    </tr>\n",
       "  </tbody>\n",
       "</table>\n",
       "</div>"
      ],
      "text/plain": [
       "   Unnamed: 0                 street           city province postal_code  \\\n",
       "0           0     6 HONEYBOURNE CRES        Markham  Ontario     L3P 1P3   \n",
       "1           1        83 BOARDWALK DR        Toronto  Ontario     M4L 3X9   \n",
       "2           2       2158 PINEVIEW DR       Oakville  Ontario     L6H 5M3   \n",
       "3           3  4078 HWY #6 Highway S     Mount Hope  Ontario     L0R 1W0   \n",
       "4           4    12 HERCULES CLUB DR  Richmond Hill  Ontario     L4K 1K6   \n",
       "\n",
       "   fire_place      style        lat        lon    price  number_of_beds  \\\n",
       "0           1   Detached  43.856371 -79.337682  2998000               5   \n",
       "1           1   Detached  43.670890 -79.316931  2599900               3   \n",
       "2           1   Detached  43.447436 -79.666672  1999000               5   \n",
       "3           1   Detached  43.156141 -79.916180  1425000               3   \n",
       "4           1  Townhouse  43.880117 -79.439292  1199000               3   \n",
       "\n",
       "   number_of_baths  extra_space  \n",
       "0                8            1  \n",
       "1                4            0  \n",
       "2                4            0  \n",
       "3                3            0  \n",
       "4                3            0  "
      ]
     },
     "execution_count": 2,
     "metadata": {},
     "output_type": "execute_result"
    }
   ],
   "source": [
    "# import the csv\n",
    "data=pd.read_csv(\"..\\Web Scraping\\predicting_house_price.csv\")\n",
    "data.head()"
   ]
  },
  {
   "cell_type": "code",
   "execution_count": 3,
   "id": "22fa5f2d",
   "metadata": {},
   "outputs": [],
   "source": [
    "data=data.drop(columns=['Unnamed: 0','street','city','province','postal_code','style'])"
   ]
  },
  {
   "cell_type": "code",
   "execution_count": 4,
   "id": "8af03c3c",
   "metadata": {},
   "outputs": [
    {
     "data": {
      "text/plain": [
       "(714, 7)"
      ]
     },
     "execution_count": 4,
     "metadata": {},
     "output_type": "execute_result"
    }
   ],
   "source": [
    "# Exploratory data analysis\n",
    "data.shape"
   ]
  },
  {
   "cell_type": "code",
   "execution_count": 5,
   "id": "f9630e7b",
   "metadata": {},
   "outputs": [],
   "source": [
    "pd.set_option('display.float_format', lambda x: '%.5f' % x)"
   ]
  },
  {
   "cell_type": "code",
   "execution_count": 6,
   "id": "f2d4f970",
   "metadata": {},
   "outputs": [
    {
     "data": {
      "text/html": [
       "<div>\n",
       "<style scoped>\n",
       "    .dataframe tbody tr th:only-of-type {\n",
       "        vertical-align: middle;\n",
       "    }\n",
       "\n",
       "    .dataframe tbody tr th {\n",
       "        vertical-align: top;\n",
       "    }\n",
       "\n",
       "    .dataframe thead th {\n",
       "        text-align: right;\n",
       "    }\n",
       "</style>\n",
       "<table border=\"1\" class=\"dataframe\">\n",
       "  <thead>\n",
       "    <tr style=\"text-align: right;\">\n",
       "      <th></th>\n",
       "      <th>fire_place</th>\n",
       "      <th>lat</th>\n",
       "      <th>lon</th>\n",
       "      <th>price</th>\n",
       "      <th>number_of_beds</th>\n",
       "      <th>number_of_baths</th>\n",
       "      <th>extra_space</th>\n",
       "    </tr>\n",
       "  </thead>\n",
       "  <tbody>\n",
       "    <tr>\n",
       "      <th>count</th>\n",
       "      <td>714.00000</td>\n",
       "      <td>714.00000</td>\n",
       "      <td>714.00000</td>\n",
       "      <td>714.00000</td>\n",
       "      <td>714.00000</td>\n",
       "      <td>714.00000</td>\n",
       "      <td>714.00000</td>\n",
       "    </tr>\n",
       "    <tr>\n",
       "      <th>mean</th>\n",
       "      <td>1.00000</td>\n",
       "      <td>43.82829</td>\n",
       "      <td>-79.35949</td>\n",
       "      <td>1103421.65826</td>\n",
       "      <td>3.25770</td>\n",
       "      <td>2.99020</td>\n",
       "      <td>0.40196</td>\n",
       "    </tr>\n",
       "    <tr>\n",
       "      <th>std</th>\n",
       "      <td>0.00000</td>\n",
       "      <td>0.78410</td>\n",
       "      <td>1.66103</td>\n",
       "      <td>537043.59527</td>\n",
       "      <td>0.77168</td>\n",
       "      <td>1.05589</td>\n",
       "      <td>0.49064</td>\n",
       "    </tr>\n",
       "    <tr>\n",
       "      <th>min</th>\n",
       "      <td>1.00000</td>\n",
       "      <td>42.03790</td>\n",
       "      <td>-83.10865</td>\n",
       "      <td>1.00000</td>\n",
       "      <td>1.00000</td>\n",
       "      <td>1.00000</td>\n",
       "      <td>0.00000</td>\n",
       "    </tr>\n",
       "    <tr>\n",
       "      <th>25%</th>\n",
       "      <td>1.00000</td>\n",
       "      <td>43.44744</td>\n",
       "      <td>-79.87286</td>\n",
       "      <td>725625.00000</td>\n",
       "      <td>3.00000</td>\n",
       "      <td>2.00000</td>\n",
       "      <td>0.00000</td>\n",
       "    </tr>\n",
       "    <tr>\n",
       "      <th>50%</th>\n",
       "      <td>1.00000</td>\n",
       "      <td>43.68778</td>\n",
       "      <td>-79.54611</td>\n",
       "      <td>971950.00000</td>\n",
       "      <td>3.00000</td>\n",
       "      <td>3.00000</td>\n",
       "      <td>0.00000</td>\n",
       "    </tr>\n",
       "    <tr>\n",
       "      <th>75%</th>\n",
       "      <td>1.00000</td>\n",
       "      <td>44.05626</td>\n",
       "      <td>-79.20018</td>\n",
       "      <td>1349000.00000</td>\n",
       "      <td>4.00000</td>\n",
       "      <td>4.00000</td>\n",
       "      <td>1.00000</td>\n",
       "    </tr>\n",
       "    <tr>\n",
       "      <th>max</th>\n",
       "      <td>1.00000</td>\n",
       "      <td>46.66021</td>\n",
       "      <td>-74.49995</td>\n",
       "      <td>3000000.00000</td>\n",
       "      <td>6.00000</td>\n",
       "      <td>8.00000</td>\n",
       "      <td>1.00000</td>\n",
       "    </tr>\n",
       "  </tbody>\n",
       "</table>\n",
       "</div>"
      ],
      "text/plain": [
       "       fire_place       lat       lon         price  number_of_beds  \\\n",
       "count   714.00000 714.00000 714.00000     714.00000       714.00000   \n",
       "mean      1.00000  43.82829 -79.35949 1103421.65826         3.25770   \n",
       "std       0.00000   0.78410   1.66103  537043.59527         0.77168   \n",
       "min       1.00000  42.03790 -83.10865       1.00000         1.00000   \n",
       "25%       1.00000  43.44744 -79.87286  725625.00000         3.00000   \n",
       "50%       1.00000  43.68778 -79.54611  971950.00000         3.00000   \n",
       "75%       1.00000  44.05626 -79.20018 1349000.00000         4.00000   \n",
       "max       1.00000  46.66021 -74.49995 3000000.00000         6.00000   \n",
       "\n",
       "       number_of_baths  extra_space  \n",
       "count        714.00000    714.00000  \n",
       "mean           2.99020      0.40196  \n",
       "std            1.05589      0.49064  \n",
       "min            1.00000      0.00000  \n",
       "25%            2.00000      0.00000  \n",
       "50%            3.00000      0.00000  \n",
       "75%            4.00000      1.00000  \n",
       "max            8.00000      1.00000  "
      ]
     },
     "execution_count": 6,
     "metadata": {},
     "output_type": "execute_result"
    }
   ],
   "source": [
    "data.describe()"
   ]
  },
  {
   "cell_type": "code",
   "execution_count": 7,
   "id": "670e8408",
   "metadata": {},
   "outputs": [
    {
     "name": "stdout",
     "output_type": "stream",
     "text": [
      "<class 'pandas.core.frame.DataFrame'>\n",
      "RangeIndex: 714 entries, 0 to 713\n",
      "Data columns (total 7 columns):\n",
      " #   Column           Non-Null Count  Dtype  \n",
      "---  ------           --------------  -----  \n",
      " 0   fire_place       714 non-null    int64  \n",
      " 1   lat              714 non-null    float64\n",
      " 2   lon              714 non-null    float64\n",
      " 3   price            714 non-null    int64  \n",
      " 4   number_of_beds   714 non-null    int64  \n",
      " 5   number_of_baths  714 non-null    int64  \n",
      " 6   extra_space      714 non-null    int64  \n",
      "dtypes: float64(2), int64(5)\n",
      "memory usage: 39.2 KB\n"
     ]
    }
   ],
   "source": [
    "data.info()"
   ]
  },
  {
   "cell_type": "code",
   "execution_count": 8,
   "id": "9bda3579",
   "metadata": {},
   "outputs": [],
   "source": [
    "# data['style']= data['style'].astype(float)"
   ]
  },
  {
   "cell_type": "code",
   "execution_count": 9,
   "id": "cc479e60",
   "metadata": {},
   "outputs": [
    {
     "data": {
      "text/plain": [
       "fire_place         0\n",
       "lat                0\n",
       "lon                0\n",
       "price              0\n",
       "number_of_beds     0\n",
       "number_of_baths    0\n",
       "extra_space        0\n",
       "dtype: int64"
      ]
     },
     "execution_count": 9,
     "metadata": {},
     "output_type": "execute_result"
    }
   ],
   "source": [
    "data.isna().sum()"
   ]
  },
  {
   "cell_type": "code",
   "execution_count": 10,
   "id": "db541498",
   "metadata": {},
   "outputs": [],
   "source": [
    "# sns.countplot(x=\"style\", data = data)"
   ]
  },
  {
   "cell_type": "code",
   "execution_count": 11,
   "id": "4f982808",
   "metadata": {},
   "outputs": [
    {
     "name": "stderr",
     "output_type": "stream",
     "text": [
      "C:\\Users\\anjali\\anaconda3\\anaconda\\lib\\site-packages\\seaborn\\distributions.py:2619: FutureWarning: `distplot` is a deprecated function and will be removed in a future version. Please adapt your code to use either `displot` (a figure-level function with similar flexibility) or `histplot` (an axes-level function for histograms).\n",
      "  warnings.warn(msg, FutureWarning)\n"
     ]
    },
    {
     "data": {
      "text/plain": [
       "<AxesSubplot:xlabel='price'>"
      ]
     },
     "execution_count": 11,
     "metadata": {},
     "output_type": "execute_result"
    },
    {
     "data": {
      "image/png": "[encoded data removed]",
      "text/plain": [
       "<Figure size 432x288 with 1 Axes>"
      ]
     },
     "metadata": {
      "needs_background": "light"
     },
     "output_type": "display_data"
    }
   ],
   "source": [
    "sns.distplot(data[\"price\"], hist=True, kde=False, \n",
    "             bins=50, color = 'blue',\n",
    "             hist_kws={'edgecolor':'black'})"
   ]
  },
  {
   "cell_type": "code",
   "execution_count": 12,
   "id": "b8924afd",
   "metadata": {},
   "outputs": [
    {
     "data": {
      "text/plain": [
       "<AxesSubplot:xlabel='price', ylabel='Density'>"
      ]
     },
     "execution_count": 12,
     "metadata": {},
     "output_type": "execute_result"
    },
    {
     "data": {
      "image/png": "[encoded data removed]",
      "text/plain": [
       "<Figure size 432x288 with 1 Axes>"
      ]
     },
     "metadata": {
      "needs_background": "light"
     },
     "output_type": "display_data"
    }
   ],
   "source": [
    "sns.distplot(data[\"price\"], hist=True, kde=True, \n",
    "             bins=100, color = 'blue',\n",
    "             hist_kws={'edgecolor':'black'})"
   ]
  },
  {
   "cell_type": "code",
   "execution_count": 13,
   "id": "b584a4e7",
   "metadata": {},
   "outputs": [
    {
     "data": {
      "text/plain": [
       "Text(0, 0.5, 'Count')"
      ]
     },
     "execution_count": 13,
     "metadata": {},
     "output_type": "execute_result"
    },
    {
     "data": {
      "image/png": "[encoded data removed]",
      "text/plain": [
       "<Figure size 432x288 with 1 Axes>"
      ]
     },
     "metadata": {
      "needs_background": "light"
     },
     "output_type": "display_data"
    }
   ],
   "source": [
    "plt.hist(data.number_of_beds,rwidth=0.8)\n",
    "plt.xlabel(\"Number of beds\")\n",
    "plt.ylabel(\"Count\")"
   ]
  },
  {
   "cell_type": "code",
   "execution_count": 14,
   "id": "f8e1e44e",
   "metadata": {},
   "outputs": [
    {
     "data": {
      "text/plain": [
       "Text(0, 0.5, 'Count')"
      ]
     },
     "execution_count": 14,
     "metadata": {},
     "output_type": "execute_result"
    },
    {
     "data": {
      "image/png": "[encoded data removed]",
      "text/plain": [
       "<Figure size 432x288 with 1 Axes>"
      ]
     },
     "metadata": {
      "needs_background": "light"
     },
     "output_type": "display_data"
    }
   ],
   "source": [
    "plt.hist(data.number_of_baths,rwidth=0.8)\n",
    "plt.xlabel(\"Number of baths\")\n",
    "plt.ylabel(\"Count\")"
   ]
  },
  {
   "cell_type": "code",
   "execution_count": 15,
   "id": "9667d4e2",
   "metadata": {},
   "outputs": [],
   "source": [
    "# data.city.describe()"
   ]
  },
  {
   "cell_type": "code",
   "execution_count": 16,
   "id": "0ec530af",
   "metadata": {},
   "outputs": [],
   "source": [
    "# data = data.rename(columns={'style': 'house_style'})"
   ]
  },
  {
   "cell_type": "code",
   "execution_count": 17,
   "id": "919a1762",
   "metadata": {},
   "outputs": [],
   "source": [
    "# data.house_style.describe()"
   ]
  },
  {
   "cell_type": "code",
   "execution_count": 18,
   "id": "fb7fe86c",
   "metadata": {},
   "outputs": [
    {
     "data": {
      "text/plain": [
       "Index(['fire_place', 'lat', 'lon', 'price', 'number_of_beds',\n",
       "       'number_of_baths', 'extra_space'],\n",
       "      dtype='object')"
      ]
     },
     "execution_count": 18,
     "metadata": {},
     "output_type": "execute_result"
    }
   ],
   "source": [
    "# splitting the data for machine learning\n",
    "data.columns"
   ]
  },
  {
   "cell_type": "code",
   "execution_count": 19,
   "id": "50b9e704",
   "metadata": {},
   "outputs": [
    {
     "data": {
      "text/html": [
       "<div>\n",
       "<style scoped>\n",
       "    .dataframe tbody tr th:only-of-type {\n",
       "        vertical-align: middle;\n",
       "    }\n",
       "\n",
       "    .dataframe tbody tr th {\n",
       "        vertical-align: top;\n",
       "    }\n",
       "\n",
       "    .dataframe thead th {\n",
       "        text-align: right;\n",
       "    }\n",
       "</style>\n",
       "<table border=\"1\" class=\"dataframe\">\n",
       "  <thead>\n",
       "    <tr style=\"text-align: right;\">\n",
       "      <th></th>\n",
       "      <th>fire_place</th>\n",
       "      <th>lat</th>\n",
       "      <th>lon</th>\n",
       "      <th>price</th>\n",
       "      <th>number_of_beds</th>\n",
       "      <th>number_of_baths</th>\n",
       "      <th>extra_space</th>\n",
       "    </tr>\n",
       "  </thead>\n",
       "  <tbody>\n",
       "    <tr>\n",
       "      <th>0</th>\n",
       "      <td>1</td>\n",
       "      <td>43.85637</td>\n",
       "      <td>-79.33768</td>\n",
       "      <td>2998000</td>\n",
       "      <td>5</td>\n",
       "      <td>8</td>\n",
       "      <td>1</td>\n",
       "    </tr>\n",
       "    <tr>\n",
       "      <th>1</th>\n",
       "      <td>1</td>\n",
       "      <td>43.67089</td>\n",
       "      <td>-79.31693</td>\n",
       "      <td>2599900</td>\n",
       "      <td>3</td>\n",
       "      <td>4</td>\n",
       "      <td>0</td>\n",
       "    </tr>\n",
       "    <tr>\n",
       "      <th>2</th>\n",
       "      <td>1</td>\n",
       "      <td>43.44744</td>\n",
       "      <td>-79.66667</td>\n",
       "      <td>1999000</td>\n",
       "      <td>5</td>\n",
       "      <td>4</td>\n",
       "      <td>0</td>\n",
       "    </tr>\n",
       "    <tr>\n",
       "      <th>3</th>\n",
       "      <td>1</td>\n",
       "      <td>43.15614</td>\n",
       "      <td>-79.91618</td>\n",
       "      <td>1425000</td>\n",
       "      <td>3</td>\n",
       "      <td>3</td>\n",
       "      <td>0</td>\n",
       "    </tr>\n",
       "    <tr>\n",
       "      <th>4</th>\n",
       "      <td>1</td>\n",
       "      <td>43.88012</td>\n",
       "      <td>-79.43929</td>\n",
       "      <td>1199000</td>\n",
       "      <td>3</td>\n",
       "      <td>3</td>\n",
       "      <td>0</td>\n",
       "    </tr>\n",
       "    <tr>\n",
       "      <th>...</th>\n",
       "      <td>...</td>\n",
       "      <td>...</td>\n",
       "      <td>...</td>\n",
       "      <td>...</td>\n",
       "      <td>...</td>\n",
       "      <td>...</td>\n",
       "      <td>...</td>\n",
       "    </tr>\n",
       "    <tr>\n",
       "      <th>709</th>\n",
       "      <td>1</td>\n",
       "      <td>43.58962</td>\n",
       "      <td>-79.64439</td>\n",
       "      <td>969000</td>\n",
       "      <td>3</td>\n",
       "      <td>3</td>\n",
       "      <td>0</td>\n",
       "    </tr>\n",
       "    <tr>\n",
       "      <th>710</th>\n",
       "      <td>1</td>\n",
       "      <td>43.68581</td>\n",
       "      <td>-79.75993</td>\n",
       "      <td>799000</td>\n",
       "      <td>3</td>\n",
       "      <td>3</td>\n",
       "      <td>0</td>\n",
       "    </tr>\n",
       "    <tr>\n",
       "      <th>711</th>\n",
       "      <td>1</td>\n",
       "      <td>43.40010</td>\n",
       "      <td>-80.64970</td>\n",
       "      <td>699900</td>\n",
       "      <td>2</td>\n",
       "      <td>3</td>\n",
       "      <td>1</td>\n",
       "    </tr>\n",
       "    <tr>\n",
       "      <th>712</th>\n",
       "      <td>1</td>\n",
       "      <td>44.64626</td>\n",
       "      <td>-80.72634</td>\n",
       "      <td>699000</td>\n",
       "      <td>2</td>\n",
       "      <td>3</td>\n",
       "      <td>1</td>\n",
       "    </tr>\n",
       "    <tr>\n",
       "      <th>713</th>\n",
       "      <td>1</td>\n",
       "      <td>45.47204</td>\n",
       "      <td>-76.68386</td>\n",
       "      <td>515000</td>\n",
       "      <td>4</td>\n",
       "      <td>2</td>\n",
       "      <td>0</td>\n",
       "    </tr>\n",
       "  </tbody>\n",
       "</table>\n",
       "<p>714 rows × 7 columns</p>\n",
       "</div>"
      ],
      "text/plain": [
       "     fire_place      lat       lon    price  number_of_beds  number_of_baths  \\\n",
       "0             1 43.85637 -79.33768  2998000               5                8   \n",
       "1             1 43.67089 -79.31693  2599900               3                4   \n",
       "2             1 43.44744 -79.66667  1999000               5                4   \n",
       "3             1 43.15614 -79.91618  1425000               3                3   \n",
       "4             1 43.88012 -79.43929  1199000               3                3   \n",
       "..          ...      ...       ...      ...             ...              ...   \n",
       "709           1 43.58962 -79.64439   969000               3                3   \n",
       "710           1 43.68581 -79.75993   799000               3                3   \n",
       "711           1 43.40010 -80.64970   699900               2                3   \n",
       "712           1 44.64626 -80.72634   699000               2                3   \n",
       "713           1 45.47204 -76.68386   515000               4                2   \n",
       "\n",
       "     extra_space  \n",
       "0              1  \n",
       "1              0  \n",
       "2              0  \n",
       "3              0  \n",
       "4              0  \n",
       "..           ...  \n",
       "709            0  \n",
       "710            0  \n",
       "711            1  \n",
       "712            1  \n",
       "713            0  \n",
       "\n",
       "[714 rows x 7 columns]"
      ]
     },
     "execution_count": 19,
     "metadata": {},
     "output_type": "execute_result"
    }
   ],
   "source": [
    "X= data[['fire_place', \n",
    "       'lat','lon','price', 'number_of_beds', 'number_of_baths', 'extra_space']]\n",
    "X"
   ]
  },
  {
   "cell_type": "code",
   "execution_count": 20,
   "id": "5d293235",
   "metadata": {},
   "outputs": [
    {
     "data": {
      "text/plain": [
       "0      2998000\n",
       "1      2599900\n",
       "2      1999000\n",
       "3      1425000\n",
       "4      1199000\n",
       "        ...   \n",
       "709     969000\n",
       "710     799000\n",
       "711     699900\n",
       "712     699000\n",
       "713     515000\n",
       "Name: price, Length: 714, dtype: int64"
      ]
     },
     "execution_count": 20,
     "metadata": {},
     "output_type": "execute_result"
    }
   ],
   "source": [
    "Y=data['price']\n",
    "Y"
   ]
  },
  {
   "cell_type": "code",
   "execution_count": 21,
   "id": "e0c439bf",
   "metadata": {},
   "outputs": [],
   "source": [
    "# install sklearn\n",
    "from sklearn.model_selection import train_test_split"
   ]
  },
  {
   "cell_type": "code",
   "execution_count": 22,
   "id": "ad38d7fe",
   "metadata": {},
   "outputs": [],
   "source": [
    "X_train, X_test , Y_train , Y_test = train_test_split(X,Y,test_size=0.25,random_state=101)"
   ]
  },
  {
   "cell_type": "code",
   "execution_count": 23,
   "id": "17b9fd96",
   "metadata": {},
   "outputs": [
    {
     "data": {
      "text/html": [
       "<div>\n",
       "<style scoped>\n",
       "    .dataframe tbody tr th:only-of-type {\n",
       "        vertical-align: middle;\n",
       "    }\n",
       "\n",
       "    .dataframe tbody tr th {\n",
       "        vertical-align: top;\n",
       "    }\n",
       "\n",
       "    .dataframe thead th {\n",
       "        text-align: right;\n",
       "    }\n",
       "</style>\n",
       "<table border=\"1\" class=\"dataframe\">\n",
       "  <thead>\n",
       "    <tr style=\"text-align: right;\">\n",
       "      <th></th>\n",
       "      <th>fire_place</th>\n",
       "      <th>lat</th>\n",
       "      <th>lon</th>\n",
       "      <th>price</th>\n",
       "      <th>number_of_beds</th>\n",
       "      <th>number_of_baths</th>\n",
       "      <th>extra_space</th>\n",
       "    </tr>\n",
       "  </thead>\n",
       "  <tbody>\n",
       "    <tr>\n",
       "      <th>662</th>\n",
       "      <td>1</td>\n",
       "      <td>43.45129</td>\n",
       "      <td>-80.49278</td>\n",
       "      <td>2350000</td>\n",
       "      <td>4</td>\n",
       "      <td>4</td>\n",
       "      <td>0</td>\n",
       "    </tr>\n",
       "    <tr>\n",
       "      <th>39</th>\n",
       "      <td>1</td>\n",
       "      <td>43.32489</td>\n",
       "      <td>-79.79668</td>\n",
       "      <td>1624900</td>\n",
       "      <td>2</td>\n",
       "      <td>3</td>\n",
       "      <td>1</td>\n",
       "    </tr>\n",
       "    <tr>\n",
       "      <th>225</th>\n",
       "      <td>1</td>\n",
       "      <td>43.58962</td>\n",
       "      <td>-79.64439</td>\n",
       "      <td>999900</td>\n",
       "      <td>3</td>\n",
       "      <td>4</td>\n",
       "      <td>0</td>\n",
       "    </tr>\n",
       "    <tr>\n",
       "      <th>696</th>\n",
       "      <td>1</td>\n",
       "      <td>43.96869</td>\n",
       "      <td>-78.65136</td>\n",
       "      <td>999000</td>\n",
       "      <td>3</td>\n",
       "      <td>4</td>\n",
       "      <td>1</td>\n",
       "    </tr>\n",
       "    <tr>\n",
       "      <th>86</th>\n",
       "      <td>1</td>\n",
       "      <td>43.68581</td>\n",
       "      <td>-79.75993</td>\n",
       "      <td>999999</td>\n",
       "      <td>4</td>\n",
       "      <td>2</td>\n",
       "      <td>1</td>\n",
       "    </tr>\n",
       "    <tr>\n",
       "      <th>...</th>\n",
       "      <td>...</td>\n",
       "      <td>...</td>\n",
       "      <td>...</td>\n",
       "      <td>...</td>\n",
       "      <td>...</td>\n",
       "      <td>...</td>\n",
       "      <td>...</td>\n",
       "    </tr>\n",
       "    <tr>\n",
       "      <th>75</th>\n",
       "      <td>1</td>\n",
       "      <td>43.33142</td>\n",
       "      <td>-79.89568</td>\n",
       "      <td>1099900</td>\n",
       "      <td>4</td>\n",
       "      <td>3</td>\n",
       "      <td>0</td>\n",
       "    </tr>\n",
       "    <tr>\n",
       "      <th>599</th>\n",
       "      <td>1</td>\n",
       "      <td>43.07356</td>\n",
       "      <td>-79.95013</td>\n",
       "      <td>899000</td>\n",
       "      <td>4</td>\n",
       "      <td>3</td>\n",
       "      <td>0</td>\n",
       "    </tr>\n",
       "    <tr>\n",
       "      <th>575</th>\n",
       "      <td>1</td>\n",
       "      <td>44.38931</td>\n",
       "      <td>-79.69017</td>\n",
       "      <td>1049000</td>\n",
       "      <td>4</td>\n",
       "      <td>3</td>\n",
       "      <td>1</td>\n",
       "    </tr>\n",
       "    <tr>\n",
       "      <th>337</th>\n",
       "      <td>1</td>\n",
       "      <td>42.28382</td>\n",
       "      <td>-82.99709</td>\n",
       "      <td>274900</td>\n",
       "      <td>3</td>\n",
       "      <td>2</td>\n",
       "      <td>0</td>\n",
       "    </tr>\n",
       "    <tr>\n",
       "      <th>523</th>\n",
       "      <td>1</td>\n",
       "      <td>43.66528</td>\n",
       "      <td>-79.43801</td>\n",
       "      <td>1639000</td>\n",
       "      <td>3</td>\n",
       "      <td>4</td>\n",
       "      <td>1</td>\n",
       "    </tr>\n",
       "  </tbody>\n",
       "</table>\n",
       "<p>535 rows × 7 columns</p>\n",
       "</div>"
      ],
      "text/plain": [
       "     fire_place      lat       lon    price  number_of_beds  number_of_baths  \\\n",
       "662           1 43.45129 -80.49278  2350000               4                4   \n",
       "39            1 43.32489 -79.79668  1624900               2                3   \n",
       "225           1 43.58962 -79.64439   999900               3                4   \n",
       "696           1 43.96869 -78.65136   999000               3                4   \n",
       "86            1 43.68581 -79.75993   999999               4                2   \n",
       "..          ...      ...       ...      ...             ...              ...   \n",
       "75            1 43.33142 -79.89568  1099900               4                3   \n",
       "599           1 43.07356 -79.95013   899000               4                3   \n",
       "575           1 44.38931 -79.69017  1049000               4                3   \n",
       "337           1 42.28382 -82.99709   274900               3                2   \n",
       "523           1 43.66528 -79.43801  1639000               3                4   \n",
       "\n",
       "     extra_space  \n",
       "662            0  \n",
       "39             1  \n",
       "225            0  \n",
       "696            1  \n",
       "86             1  \n",
       "..           ...  \n",
       "75             0  \n",
       "599            0  \n",
       "575            1  \n",
       "337            0  \n",
       "523            1  \n",
       "\n",
       "[535 rows x 7 columns]"
      ]
     },
     "execution_count": 23,
     "metadata": {},
     "output_type": "execute_result"
    }
   ],
   "source": [
    "X_train"
   ]
  },
  {
   "cell_type": "code",
   "execution_count": 24,
   "id": "f9865ea1",
   "metadata": {},
   "outputs": [
    {
     "data": {
      "text/plain": [
       "662    2350000\n",
       "39     1624900\n",
       "225     999900\n",
       "696     999000\n",
       "86      999999\n",
       "        ...   \n",
       "75     1099900\n",
       "599     899000\n",
       "575    1049000\n",
       "337     274900\n",
       "523    1639000\n",
       "Name: price, Length: 535, dtype: int64"
      ]
     },
     "execution_count": 24,
     "metadata": {},
     "output_type": "execute_result"
    }
   ],
   "source": [
    "Y_train"
   ]
  },
  {
   "cell_type": "code",
   "execution_count": 25,
   "id": "16f09b92",
   "metadata": {},
   "outputs": [
    {
     "data": {
      "text/html": [
       "<div>\n",
       "<style scoped>\n",
       "    .dataframe tbody tr th:only-of-type {\n",
       "        vertical-align: middle;\n",
       "    }\n",
       "\n",
       "    .dataframe tbody tr th {\n",
       "        vertical-align: top;\n",
       "    }\n",
       "\n",
       "    .dataframe thead th {\n",
       "        text-align: right;\n",
       "    }\n",
       "</style>\n",
       "<table border=\"1\" class=\"dataframe\">\n",
       "  <thead>\n",
       "    <tr style=\"text-align: right;\">\n",
       "      <th></th>\n",
       "      <th>fire_place</th>\n",
       "      <th>lat</th>\n",
       "      <th>lon</th>\n",
       "      <th>price</th>\n",
       "      <th>number_of_beds</th>\n",
       "      <th>number_of_baths</th>\n",
       "      <th>extra_space</th>\n",
       "    </tr>\n",
       "  </thead>\n",
       "  <tbody>\n",
       "    <tr>\n",
       "      <th>681</th>\n",
       "      <td>1</td>\n",
       "      <td>43.89756</td>\n",
       "      <td>-78.86353</td>\n",
       "      <td>749000</td>\n",
       "      <td>3</td>\n",
       "      <td>2</td>\n",
       "      <td>0</td>\n",
       "    </tr>\n",
       "    <tr>\n",
       "      <th>428</th>\n",
       "      <td>1</td>\n",
       "      <td>43.21675</td>\n",
       "      <td>-79.75676</td>\n",
       "      <td>899000</td>\n",
       "      <td>3</td>\n",
       "      <td>3</td>\n",
       "      <td>0</td>\n",
       "    </tr>\n",
       "    <tr>\n",
       "      <th>209</th>\n",
       "      <td>1</td>\n",
       "      <td>43.68581</td>\n",
       "      <td>-79.75993</td>\n",
       "      <td>1175000</td>\n",
       "      <td>4</td>\n",
       "      <td>3</td>\n",
       "      <td>0</td>\n",
       "    </tr>\n",
       "    <tr>\n",
       "      <th>547</th>\n",
       "      <td>1</td>\n",
       "      <td>43.75166</td>\n",
       "      <td>-79.44766</td>\n",
       "      <td>1299000</td>\n",
       "      <td>3</td>\n",
       "      <td>2</td>\n",
       "      <td>1</td>\n",
       "    </tr>\n",
       "    <tr>\n",
       "      <th>374</th>\n",
       "      <td>1</td>\n",
       "      <td>43.71275</td>\n",
       "      <td>-79.40663</td>\n",
       "      <td>1388000</td>\n",
       "      <td>3</td>\n",
       "      <td>3</td>\n",
       "      <td>0</td>\n",
       "    </tr>\n",
       "    <tr>\n",
       "      <th>...</th>\n",
       "      <td>...</td>\n",
       "      <td>...</td>\n",
       "      <td>...</td>\n",
       "      <td>...</td>\n",
       "      <td>...</td>\n",
       "      <td>...</td>\n",
       "      <td>...</td>\n",
       "    </tr>\n",
       "    <tr>\n",
       "      <th>274</th>\n",
       "      <td>1</td>\n",
       "      <td>44.36827</td>\n",
       "      <td>-80.06695</td>\n",
       "      <td>799000</td>\n",
       "      <td>4</td>\n",
       "      <td>3</td>\n",
       "      <td>0</td>\n",
       "    </tr>\n",
       "    <tr>\n",
       "      <th>510</th>\n",
       "      <td>1</td>\n",
       "      <td>43.79415</td>\n",
       "      <td>-79.52680</td>\n",
       "      <td>2048000</td>\n",
       "      <td>5</td>\n",
       "      <td>5</td>\n",
       "      <td>1</td>\n",
       "    </tr>\n",
       "    <tr>\n",
       "      <th>58</th>\n",
       "      <td>1</td>\n",
       "      <td>44.05626</td>\n",
       "      <td>-79.46171</td>\n",
       "      <td>1299900</td>\n",
       "      <td>3</td>\n",
       "      <td>3</td>\n",
       "      <td>1</td>\n",
       "    </tr>\n",
       "    <tr>\n",
       "      <th>497</th>\n",
       "      <td>1</td>\n",
       "      <td>42.41826</td>\n",
       "      <td>-82.20240</td>\n",
       "      <td>444900</td>\n",
       "      <td>3</td>\n",
       "      <td>2</td>\n",
       "      <td>1</td>\n",
       "    </tr>\n",
       "    <tr>\n",
       "      <th>260</th>\n",
       "      <td>1</td>\n",
       "      <td>43.95960</td>\n",
       "      <td>-78.16778</td>\n",
       "      <td>825000</td>\n",
       "      <td>3</td>\n",
       "      <td>3</td>\n",
       "      <td>0</td>\n",
       "    </tr>\n",
       "  </tbody>\n",
       "</table>\n",
       "<p>179 rows × 7 columns</p>\n",
       "</div>"
      ],
      "text/plain": [
       "     fire_place      lat       lon    price  number_of_beds  number_of_baths  \\\n",
       "681           1 43.89756 -78.86353   749000               3                2   \n",
       "428           1 43.21675 -79.75676   899000               3                3   \n",
       "209           1 43.68581 -79.75993  1175000               4                3   \n",
       "547           1 43.75166 -79.44766  1299000               3                2   \n",
       "374           1 43.71275 -79.40663  1388000               3                3   \n",
       "..          ...      ...       ...      ...             ...              ...   \n",
       "274           1 44.36827 -80.06695   799000               4                3   \n",
       "510           1 43.79415 -79.52680  2048000               5                5   \n",
       "58            1 44.05626 -79.46171  1299900               3                3   \n",
       "497           1 42.41826 -82.20240   444900               3                2   \n",
       "260           1 43.95960 -78.16778   825000               3                3   \n",
       "\n",
       "     extra_space  \n",
       "681            0  \n",
       "428            0  \n",
       "209            0  \n",
       "547            1  \n",
       "374            0  \n",
       "..           ...  \n",
       "274            0  \n",
       "510            1  \n",
       "58             1  \n",
       "497            1  \n",
       "260            0  \n",
       "\n",
       "[179 rows x 7 columns]"
      ]
     },
     "execution_count": 25,
     "metadata": {},
     "output_type": "execute_result"
    }
   ],
   "source": [
    "X_test"
   ]
  },
  {
   "cell_type": "code",
   "execution_count": 26,
   "id": "909c6265",
   "metadata": {},
   "outputs": [
    {
     "data": {
      "text/plain": [
       "681     749000\n",
       "428     899000\n",
       "209    1175000\n",
       "547    1299000\n",
       "374    1388000\n",
       "        ...   \n",
       "274     799000\n",
       "510    2048000\n",
       "58     1299900\n",
       "497     444900\n",
       "260     825000\n",
       "Name: price, Length: 179, dtype: int64"
      ]
     },
     "execution_count": 26,
     "metadata": {},
     "output_type": "execute_result"
    }
   ],
   "source": [
    "Y_test"
   ]
  },
  {
   "cell_type": "code",
   "execution_count": 27,
   "id": "84327ead",
   "metadata": {},
   "outputs": [],
   "source": [
    "# normalization\n",
    "from sklearn.preprocessing import StandardScaler\n",
    "std=StandardScaler()"
   ]
  },
  {
   "cell_type": "code",
   "execution_count": 28,
   "id": "28df5ff5",
   "metadata": {},
   "outputs": [],
   "source": [
    "\n",
    "X_train_std=std.fit_transform(X_train)\n",
    "X_test_std=std.transform(X_test)"
   ]
  },
  {
   "cell_type": "code",
   "execution_count": 29,
   "id": "e9f3c590",
   "metadata": {},
   "outputs": [
    {
     "data": {
      "text/html": [
       "<div>\n",
       "<style scoped>\n",
       "    .dataframe tbody tr th:only-of-type {\n",
       "        vertical-align: middle;\n",
       "    }\n",
       "\n",
       "    .dataframe tbody tr th {\n",
       "        vertical-align: top;\n",
       "    }\n",
       "\n",
       "    .dataframe thead th {\n",
       "        text-align: right;\n",
       "    }\n",
       "</style>\n",
       "<table border=\"1\" class=\"dataframe\">\n",
       "  <thead>\n",
       "    <tr style=\"text-align: right;\">\n",
       "      <th></th>\n",
       "      <th>fire_place</th>\n",
       "      <th>lat</th>\n",
       "      <th>lon</th>\n",
       "      <th>price</th>\n",
       "      <th>number_of_beds</th>\n",
       "      <th>number_of_baths</th>\n",
       "      <th>extra_space</th>\n",
       "    </tr>\n",
       "  </thead>\n",
       "  <tbody>\n",
       "    <tr>\n",
       "      <th>662</th>\n",
       "      <td>1</td>\n",
       "      <td>43.45129</td>\n",
       "      <td>-80.49278</td>\n",
       "      <td>2350000</td>\n",
       "      <td>4</td>\n",
       "      <td>4</td>\n",
       "      <td>0</td>\n",
       "    </tr>\n",
       "    <tr>\n",
       "      <th>39</th>\n",
       "      <td>1</td>\n",
       "      <td>43.32489</td>\n",
       "      <td>-79.79668</td>\n",
       "      <td>1624900</td>\n",
       "      <td>2</td>\n",
       "      <td>3</td>\n",
       "      <td>1</td>\n",
       "    </tr>\n",
       "    <tr>\n",
       "      <th>225</th>\n",
       "      <td>1</td>\n",
       "      <td>43.58962</td>\n",
       "      <td>-79.64439</td>\n",
       "      <td>999900</td>\n",
       "      <td>3</td>\n",
       "      <td>4</td>\n",
       "      <td>0</td>\n",
       "    </tr>\n",
       "    <tr>\n",
       "      <th>696</th>\n",
       "      <td>1</td>\n",
       "      <td>43.96869</td>\n",
       "      <td>-78.65136</td>\n",
       "      <td>999000</td>\n",
       "      <td>3</td>\n",
       "      <td>4</td>\n",
       "      <td>1</td>\n",
       "    </tr>\n",
       "    <tr>\n",
       "      <th>86</th>\n",
       "      <td>1</td>\n",
       "      <td>43.68581</td>\n",
       "      <td>-79.75993</td>\n",
       "      <td>999999</td>\n",
       "      <td>4</td>\n",
       "      <td>2</td>\n",
       "      <td>1</td>\n",
       "    </tr>\n",
       "    <tr>\n",
       "      <th>...</th>\n",
       "      <td>...</td>\n",
       "      <td>...</td>\n",
       "      <td>...</td>\n",
       "      <td>...</td>\n",
       "      <td>...</td>\n",
       "      <td>...</td>\n",
       "      <td>...</td>\n",
       "    </tr>\n",
       "    <tr>\n",
       "      <th>75</th>\n",
       "      <td>1</td>\n",
       "      <td>43.33142</td>\n",
       "      <td>-79.89568</td>\n",
       "      <td>1099900</td>\n",
       "      <td>4</td>\n",
       "      <td>3</td>\n",
       "      <td>0</td>\n",
       "    </tr>\n",
       "    <tr>\n",
       "      <th>599</th>\n",
       "      <td>1</td>\n",
       "      <td>43.07356</td>\n",
       "      <td>-79.95013</td>\n",
       "      <td>899000</td>\n",
       "      <td>4</td>\n",
       "      <td>3</td>\n",
       "      <td>0</td>\n",
       "    </tr>\n",
       "    <tr>\n",
       "      <th>575</th>\n",
       "      <td>1</td>\n",
       "      <td>44.38931</td>\n",
       "      <td>-79.69017</td>\n",
       "      <td>1049000</td>\n",
       "      <td>4</td>\n",
       "      <td>3</td>\n",
       "      <td>1</td>\n",
       "    </tr>\n",
       "    <tr>\n",
       "      <th>337</th>\n",
       "      <td>1</td>\n",
       "      <td>42.28382</td>\n",
       "      <td>-82.99709</td>\n",
       "      <td>274900</td>\n",
       "      <td>3</td>\n",
       "      <td>2</td>\n",
       "      <td>0</td>\n",
       "    </tr>\n",
       "    <tr>\n",
       "      <th>523</th>\n",
       "      <td>1</td>\n",
       "      <td>43.66528</td>\n",
       "      <td>-79.43801</td>\n",
       "      <td>1639000</td>\n",
       "      <td>3</td>\n",
       "      <td>4</td>\n",
       "      <td>1</td>\n",
       "    </tr>\n",
       "  </tbody>\n",
       "</table>\n",
       "<p>535 rows × 7 columns</p>\n",
       "</div>"
      ],
      "text/plain": [
       "     fire_place      lat       lon    price  number_of_beds  number_of_baths  \\\n",
       "662           1 43.45129 -80.49278  2350000               4                4   \n",
       "39            1 43.32489 -79.79668  1624900               2                3   \n",
       "225           1 43.58962 -79.64439   999900               3                4   \n",
       "696           1 43.96869 -78.65136   999000               3                4   \n",
       "86            1 43.68581 -79.75993   999999               4                2   \n",
       "..          ...      ...       ...      ...             ...              ...   \n",
       "75            1 43.33142 -79.89568  1099900               4                3   \n",
       "599           1 43.07356 -79.95013   899000               4                3   \n",
       "575           1 44.38931 -79.69017  1049000               4                3   \n",
       "337           1 42.28382 -82.99709   274900               3                2   \n",
       "523           1 43.66528 -79.43801  1639000               3                4   \n",
       "\n",
       "     extra_space  \n",
       "662            0  \n",
       "39             1  \n",
       "225            0  \n",
       "696            1  \n",
       "86             1  \n",
       "..           ...  \n",
       "75             0  \n",
       "599            0  \n",
       "575            1  \n",
       "337            0  \n",
       "523            1  \n",
       "\n",
       "[535 rows x 7 columns]"
      ]
     },
     "execution_count": 29,
     "metadata": {},
     "output_type": "execute_result"
    }
   ],
   "source": [
    "X_train\n"
   ]
  },
  {
   "cell_type": "code",
   "execution_count": 30,
   "id": "32ee8668",
   "metadata": {},
   "outputs": [
    {
     "data": {
      "text/plain": [
       "array([[ 0.        , -0.46209543, -0.65925229, ...,  0.93792511,\n",
       "         0.93050801, -0.80699106],\n",
       "       [ 0.        , -0.62060281, -0.2362081 , ..., -1.60923191,\n",
       "        -0.00524723,  1.2391711 ],\n",
       "       [ 0.        , -0.28862309, -0.1436525 , ..., -0.3356534 ,\n",
       "         0.93050801, -0.80699106],\n",
       "       ...,\n",
       "       [ 0.        ,  0.71420834, -0.17147814, ...,  0.93792511,\n",
       "        -0.00524723,  1.2391711 ],\n",
       "       [ 0.        , -1.9261368 , -2.18121145, ..., -0.3356534 ,\n",
       "        -0.94100246, -0.80699106],\n",
       "       [ 0.        , -0.19375223, -0.0182285 , ..., -0.3356534 ,\n",
       "         0.93050801,  1.2391711 ]])"
      ]
     },
     "execution_count": 30,
     "metadata": {},
     "output_type": "execute_result"
    }
   ],
   "source": [
    "X_train_std"
   ]
  },
  {
   "cell_type": "code",
   "execution_count": 31,
   "id": "0f9da096",
   "metadata": {},
   "outputs": [
    {
     "data": {
      "text/plain": [
       "array([[ 0.        ,  0.09753315,  0.33090191, ..., -0.3356534 ,\n",
       "        -0.94100246, -0.80699106],\n",
       "       [ 0.        , -0.75621316, -0.2119461 , ..., -0.3356534 ,\n",
       "        -0.00524723, -0.80699106],\n",
       "       [ 0.        , -0.16799625, -0.21387391, ...,  0.93792511,\n",
       "        -0.00524723, -0.80699106],\n",
       "       ...,\n",
       "       [ 0.        ,  0.29655016, -0.03263125, ..., -0.3356534 ,\n",
       "        -0.00524723,  1.2391711 ],\n",
       "       [ 0.        , -1.75754653, -1.69825295, ..., -0.3356534 ,\n",
       "        -0.94100246,  1.2391711 ],\n",
       "       [ 0.        ,  0.17533807,  0.75373704, ..., -0.3356534 ,\n",
       "        -0.00524723, -0.80699106]])"
      ]
     },
     "execution_count": 31,
     "metadata": {},
     "output_type": "execute_result"
    }
   ],
   "source": [
    "X_test_std"
   ]
  },
  {
   "cell_type": "code",
   "execution_count": 32,
   "id": "12d16f56",
   "metadata": {},
   "outputs": [
    {
     "data": {
      "text/plain": [
       "662    2350000\n",
       "39     1624900\n",
       "225     999900\n",
       "696     999000\n",
       "86      999999\n",
       "        ...   \n",
       "75     1099900\n",
       "599     899000\n",
       "575    1049000\n",
       "337     274900\n",
       "523    1639000\n",
       "Name: price, Length: 535, dtype: int64"
      ]
     },
     "execution_count": 32,
     "metadata": {},
     "output_type": "execute_result"
    }
   ],
   "source": [
    "Y_train"
   ]
  },
  {
   "cell_type": "code",
   "execution_count": 33,
   "id": "3ceab4ad",
   "metadata": {},
   "outputs": [
    {
     "data": {
      "text/plain": [
       "681     749000\n",
       "428     899000\n",
       "209    1175000\n",
       "547    1299000\n",
       "374    1388000\n",
       "        ...   \n",
       "274     799000\n",
       "510    2048000\n",
       "58     1299900\n",
       "497     444900\n",
       "260     825000\n",
       "Name: price, Length: 179, dtype: int64"
      ]
     },
     "execution_count": 33,
     "metadata": {},
     "output_type": "execute_result"
    }
   ],
   "source": [
    "Y_test"
   ]
  },
  {
   "cell_type": "code",
   "execution_count": 34,
   "id": "5c6aaad2",
   "metadata": {},
   "outputs": [],
   "source": [
    "# linear regression\n",
    "from sklearn.linear_model import LinearRegression\n",
    "from sklearn.metrics import balanced_accuracy_score\n",
    "from sklearn.metrics import r2_score\n",
    "from sklearn.metrics import mean_squared_error \n",
    "lr=LinearRegression()"
   ]
  },
  {
   "cell_type": "code",
   "execution_count": 35,
   "id": "8c5a8fc7",
   "metadata": {},
   "outputs": [
    {
     "data": {
      "text/plain": [
       "LinearRegression()"
      ]
     },
     "execution_count": 35,
     "metadata": {},
     "output_type": "execute_result"
    }
   ],
   "source": [
    "lr.fit(X_train_std,Y_train)\n"
   ]
  },
  {
   "cell_type": "code",
   "execution_count": 36,
   "id": "73344e6c",
   "metadata": {},
   "outputs": [],
   "source": [
    "# predictions = lr.predict(X_test)"
   ]
  },
  {
   "cell_type": "code",
   "execution_count": 37,
   "id": "60a280df",
   "metadata": {},
   "outputs": [],
   "source": [
    "# # Print the balanced_accuracy score of the model\n",
    "# from sklearn.metrics import accuracy_score\n",
    "# testing_accuracy = balanced_accuracy_score(Y_test,predictions)\n",
    "# testing_accuracy"
   ]
  },
  {
   "cell_type": "code",
   "execution_count": 38,
   "id": "ed91e11d",
   "metadata": {},
   "outputs": [
    {
     "data": {
      "text/plain": [
       "array([ 749000.,  899000., 1175000., 1299000., 1388000.,  999000.,\n",
       "       1595000., 1199900., 1688000.,  949000.,  309900.,  499900.,\n",
       "        999000.,  799900., 2999990., 1799000., 1099000.,  879000.,\n",
       "        629000.,  875000.,  688000.,  515000., 1120000., 1099999.,\n",
       "        899000.,  799999.,  899000.,  699000., 1195000.,  999999.,\n",
       "        799900.,  799000.,  865000.,  849900., 1299000., 1099900.,\n",
       "        999900.,  799000., 1399000.,  829900.,  679000.,  539900.,\n",
       "        899000.,  659900.,  698800., 1499000.,  324900.,  799000.,\n",
       "       1499900.,  899999.,  479000.,  699000.,  429900.,  554900.,\n",
       "        999000.,  759900.,  849900., 1070000., 1299999., 1399000.,\n",
       "        594900.,  899900.,  698736.,  809000.,  919900., 1199900.,\n",
       "       1849999.,  775000.,  584900., 1798000.,  799000., 1049000.,\n",
       "       1799000., 1399000., 1699990., 1649900.,  799999., 2649900.,\n",
       "       2059000.,  799900.,  945000.,  934900., 1399900.,  719000.,\n",
       "        739900.,  789000.,  998700.,  899000.,  799900., 2199888.,\n",
       "        899000.,  999900.,  719900., 2797000., 1199900.,  699900.,\n",
       "       2188000.,  579000.,  995000.,  779900., 1999000., 1299000.,\n",
       "        399900., 1299000.,  394900.,  827777.,  699900., 1859000.,\n",
       "        699000.,  564900., 1100000.,  964000., 1595000.,  499777.,\n",
       "        979000., 1479000.,  898000.,  525000., 2337000.,  699900.,\n",
       "       1599000., 1488800., 1099999.,  599900.,  998800., 1199900.,\n",
       "        499000.,  900000.,  745000.,  699900., 1499000.,  875000.,\n",
       "        800000., 2195000.,  449900.,  999000., 2999000.,  899700.,\n",
       "        749900.,  699900., 1535000., 1899900.,  699900., 1649000.,\n",
       "       1550000.,  299900., 1999000., 1399900., 1149999.,  549900.,\n",
       "        799900., 1150000.,  899000.,  899900.,  849000.,  699000.,\n",
       "        299900., 1950000., 1299800., 1350000., 1150000.,  998900.,\n",
       "        799900., 1099000.,  899900.,  789900.,  779000.,  988000.,\n",
       "       1249999.,  799999.,  399480.,  698000.,  669900.,  799900.,\n",
       "        799000., 2048000., 1299900.,  444900.,  825000.])"
      ]
     },
     "execution_count": 38,
     "metadata": {},
     "output_type": "execute_result"
    }
   ],
   "source": [
    "Y_pred=lr.predict(X_test_std)\n",
    "Y_pred"
   ]
  },
  {
   "cell_type": "code",
   "execution_count": 39,
   "id": "17d5dce2",
   "metadata": {},
   "outputs": [
    {
     "data": {
      "text/plain": [
       "681     749000\n",
       "428     899000\n",
       "209    1175000\n",
       "547    1299000\n",
       "374    1388000\n",
       "        ...   \n",
       "274     799000\n",
       "510    2048000\n",
       "58     1299900\n",
       "497     444900\n",
       "260     825000\n",
       "Name: price, Length: 179, dtype: int64"
      ]
     },
     "execution_count": 39,
     "metadata": {},
     "output_type": "execute_result"
    }
   ],
   "source": [
    "Y_test"
   ]
  },
  {
   "cell_type": "code",
   "execution_count": 40,
   "id": "7e6be351",
   "metadata": {},
   "outputs": [
    {
     "name": "stderr",
     "output_type": "stream",
     "text": [
      "C:\\Users\\anjali\\anaconda3\\anaconda\\lib\\site-packages\\sklearn\\base.py:443: UserWarning: X has feature names, but LinearRegression was fitted without feature names\n",
      "  warnings.warn(\n"
     ]
    }
   ],
   "source": [
    "score = lr.score(X, Y, sample_weight=None)"
   ]
  },
  {
   "cell_type": "code",
   "execution_count": 41,
   "id": "9e25b428",
   "metadata": {},
   "outputs": [],
   "source": [
    "mse= mean_squared_error(Y_test,Y_pred)"
   ]
  },
  {
   "cell_type": "code",
   "execution_count": 42,
   "id": "ed56b9f5",
   "metadata": {},
   "outputs": [
    {
     "data": {
      "text/html": [
       "<div>\n",
       "<style scoped>\n",
       "    .dataframe tbody tr th:only-of-type {\n",
       "        vertical-align: middle;\n",
       "    }\n",
       "\n",
       "    .dataframe tbody tr th {\n",
       "        vertical-align: top;\n",
       "    }\n",
       "\n",
       "    .dataframe thead th {\n",
       "        text-align: right;\n",
       "    }\n",
       "</style>\n",
       "<table border=\"1\" class=\"dataframe\">\n",
       "  <thead>\n",
       "    <tr style=\"text-align: right;\">\n",
       "      <th></th>\n",
       "      <th>fire_place</th>\n",
       "      <th>lat</th>\n",
       "      <th>lon</th>\n",
       "      <th>price</th>\n",
       "      <th>number_of_beds</th>\n",
       "      <th>number_of_baths</th>\n",
       "      <th>extra_space</th>\n",
       "    </tr>\n",
       "  </thead>\n",
       "  <tbody>\n",
       "    <tr>\n",
       "      <th>681</th>\n",
       "      <td>1</td>\n",
       "      <td>43.89756</td>\n",
       "      <td>-78.86353</td>\n",
       "      <td>749000</td>\n",
       "      <td>3</td>\n",
       "      <td>2</td>\n",
       "      <td>0</td>\n",
       "    </tr>\n",
       "    <tr>\n",
       "      <th>428</th>\n",
       "      <td>1</td>\n",
       "      <td>43.21675</td>\n",
       "      <td>-79.75676</td>\n",
       "      <td>899000</td>\n",
       "      <td>3</td>\n",
       "      <td>3</td>\n",
       "      <td>0</td>\n",
       "    </tr>\n",
       "    <tr>\n",
       "      <th>209</th>\n",
       "      <td>1</td>\n",
       "      <td>43.68581</td>\n",
       "      <td>-79.75993</td>\n",
       "      <td>1175000</td>\n",
       "      <td>4</td>\n",
       "      <td>3</td>\n",
       "      <td>0</td>\n",
       "    </tr>\n",
       "    <tr>\n",
       "      <th>547</th>\n",
       "      <td>1</td>\n",
       "      <td>43.75166</td>\n",
       "      <td>-79.44766</td>\n",
       "      <td>1299000</td>\n",
       "      <td>3</td>\n",
       "      <td>2</td>\n",
       "      <td>1</td>\n",
       "    </tr>\n",
       "    <tr>\n",
       "      <th>374</th>\n",
       "      <td>1</td>\n",
       "      <td>43.71275</td>\n",
       "      <td>-79.40663</td>\n",
       "      <td>1388000</td>\n",
       "      <td>3</td>\n",
       "      <td>3</td>\n",
       "      <td>0</td>\n",
       "    </tr>\n",
       "    <tr>\n",
       "      <th>...</th>\n",
       "      <td>...</td>\n",
       "      <td>...</td>\n",
       "      <td>...</td>\n",
       "      <td>...</td>\n",
       "      <td>...</td>\n",
       "      <td>...</td>\n",
       "      <td>...</td>\n",
       "    </tr>\n",
       "    <tr>\n",
       "      <th>274</th>\n",
       "      <td>1</td>\n",
       "      <td>44.36827</td>\n",
       "      <td>-80.06695</td>\n",
       "      <td>799000</td>\n",
       "      <td>4</td>\n",
       "      <td>3</td>\n",
       "      <td>0</td>\n",
       "    </tr>\n",
       "    <tr>\n",
       "      <th>510</th>\n",
       "      <td>1</td>\n",
       "      <td>43.79415</td>\n",
       "      <td>-79.52680</td>\n",
       "      <td>2048000</td>\n",
       "      <td>5</td>\n",
       "      <td>5</td>\n",
       "      <td>1</td>\n",
       "    </tr>\n",
       "    <tr>\n",
       "      <th>58</th>\n",
       "      <td>1</td>\n",
       "      <td>44.05626</td>\n",
       "      <td>-79.46171</td>\n",
       "      <td>1299900</td>\n",
       "      <td>3</td>\n",
       "      <td>3</td>\n",
       "      <td>1</td>\n",
       "    </tr>\n",
       "    <tr>\n",
       "      <th>497</th>\n",
       "      <td>1</td>\n",
       "      <td>42.41826</td>\n",
       "      <td>-82.20240</td>\n",
       "      <td>444900</td>\n",
       "      <td>3</td>\n",
       "      <td>2</td>\n",
       "      <td>1</td>\n",
       "    </tr>\n",
       "    <tr>\n",
       "      <th>260</th>\n",
       "      <td>1</td>\n",
       "      <td>43.95960</td>\n",
       "      <td>-78.16778</td>\n",
       "      <td>825000</td>\n",
       "      <td>3</td>\n",
       "      <td>3</td>\n",
       "      <td>0</td>\n",
       "    </tr>\n",
       "  </tbody>\n",
       "</table>\n",
       "<p>179 rows × 7 columns</p>\n",
       "</div>"
      ],
      "text/plain": [
       "     fire_place      lat       lon    price  number_of_beds  number_of_baths  \\\n",
       "681           1 43.89756 -78.86353   749000               3                2   \n",
       "428           1 43.21675 -79.75676   899000               3                3   \n",
       "209           1 43.68581 -79.75993  1175000               4                3   \n",
       "547           1 43.75166 -79.44766  1299000               3                2   \n",
       "374           1 43.71275 -79.40663  1388000               3                3   \n",
       "..          ...      ...       ...      ...             ...              ...   \n",
       "274           1 44.36827 -80.06695   799000               4                3   \n",
       "510           1 43.79415 -79.52680  2048000               5                5   \n",
       "58            1 44.05626 -79.46171  1299900               3                3   \n",
       "497           1 42.41826 -82.20240   444900               3                2   \n",
       "260           1 43.95960 -78.16778   825000               3                3   \n",
       "\n",
       "     extra_space  \n",
       "681            0  \n",
       "428            0  \n",
       "209            0  \n",
       "547            1  \n",
       "374            0  \n",
       "..           ...  \n",
       "274            0  \n",
       "510            1  \n",
       "58             1  \n",
       "497            1  \n",
       "260            0  \n",
       "\n",
       "[179 rows x 7 columns]"
      ]
     },
     "execution_count": 42,
     "metadata": {},
     "output_type": "execute_result"
    }
   ],
   "source": [
    "X_test"
   ]
  },
  {
   "cell_type": "code",
   "execution_count": 43,
   "id": "fe128533",
   "metadata": {},
   "outputs": [
    {
     "data": {
      "text/plain": [
       "1.0"
      ]
     },
     "execution_count": 43,
     "metadata": {},
     "output_type": "execute_result"
    }
   ],
   "source": [
    "r2_score(Y_test,Y_pred)"
   ]
  },
  {
   "cell_type": "code",
   "execution_count": 47,
   "id": "49b4d2d1",
   "metadata": {},
   "outputs": [
    {
     "name": "stdout",
     "output_type": "stream",
     "text": [
      "The mean squared error is 9.229346705725069e-20.\n",
      "The root mean squared error is 3.0379839870751575e-10.\n",
      "The standard deviation is 536667.3825520616.\n"
     ]
    }
   ],
   "source": [
    "rmse = np.sqrt(mse)\n",
    "std = np.std(Y)\n",
    "print(f\"The mean squared error is {mse}.\")\n",
    "print(f\"The root mean squared error is {rmse}.\")\n",
    "print(f\"The standard deviation is {std}.\")\n"
   ]
  },
  {
   "cell_type": "code",
   "execution_count": 45,
   "id": "642888a1",
   "metadata": {},
   "outputs": [],
   "source": [
    "#  # Support vector machine linear classifier\n",
    "# from sklearn.svm import SVC \n",
    "# model = SVC(kernel='linear')\n",
    "# model.fit(X_train, Y_train)"
   ]
  },
  {
   "cell_type": "code",
   "execution_count": 46,
   "id": "79c24275",
   "metadata": {},
   "outputs": [],
   "source": [
    "# # Model Accuracy\n",
    "# print('Test Acc: %.3f' % model.score(X_test, Y_test))"
   ]
  },
  {
   "cell_type": "code",
   "execution_count": null,
   "id": "b9eed96f",
   "metadata": {},
   "outputs": [],
   "source": []
  }
 ],
 "metadata": {
  "kernelspec": {
   "display_name": "Python 3 (ipykernel)",
   "language": "python",
   "name": "python3"
  },
  "language_info": {
   "codemirror_mode": {
    "name": "ipython",
    "version": 3
   },
   "file_extension": ".py",
   "mimetype": "text/x-python",
   "name": "python",
   "nbconvert_exporter": "python",
   "pygments_lexer": "ipython3",
   "version": "3.9.12"
  }
 },
 "nbformat": 4,
 "nbformat_minor": 5
}
