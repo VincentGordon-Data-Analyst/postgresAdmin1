{
 "cells": [
  {
   "cell_type": "code",
   "execution_count": 1,
   "metadata": {},
   "outputs": [],
   "source": [
    "import pandas as pd"
   ]
  },
  {
   "cell_type": "code",
   "execution_count": 2,
   "metadata": {},
   "outputs": [
    {
     "data": {
      "text/html": [
       "<div>\n",
       "<style scoped>\n",
       "    .dataframe tbody tr th:only-of-type {\n",
       "        vertical-align: middle;\n",
       "    }\n",
       "\n",
       "    .dataframe tbody tr th {\n",
       "        vertical-align: top;\n",
       "    }\n",
       "\n",
       "    .dataframe thead th {\n",
       "        text-align: right;\n",
       "    }\n",
       "</style>\n",
       "<table border=\"1\" class=\"dataframe\">\n",
       "  <thead>\n",
       "    <tr style=\"text-align: right;\">\n",
       "      <th></th>\n",
       "      <th>lat</th>\n",
       "      <th>lon</th>\n",
       "      <th>price</th>\n",
       "      <th>address</th>\n",
       "      <th>style</th>\n",
       "      <th>building_type</th>\n",
       "      <th>cooling_type</th>\n",
       "      <th>heating_type</th>\n",
       "      <th>fire_place</th>\n",
       "      <th>number_of_beds</th>\n",
       "      <th>number_of_baths</th>\n",
       "    </tr>\n",
       "  </thead>\n",
       "  <tbody>\n",
       "    <tr>\n",
       "      <th>0</th>\n",
       "      <td>43.743931</td>\n",
       "      <td>-79.358975</td>\n",
       "      <td>$2,688,000</td>\n",
       "      <td>17 BRAMBLE DR, Toronto, Ontario, M3B 2E9</td>\n",
       "      <td>Detached</td>\n",
       "      <td>House</td>\n",
       "      <td>Central air conditioning</td>\n",
       "      <td>Forced air</td>\n",
       "      <td>1</td>\n",
       "      <td>3 Beds</td>\n",
       "      <td>3 Baths</td>\n",
       "    </tr>\n",
       "    <tr>\n",
       "      <th>1</th>\n",
       "      <td>43.685815</td>\n",
       "      <td>-79.759934</td>\n",
       "      <td>$1,899,990</td>\n",
       "      <td>1 LANDVIEW RD, Brampton, Ontario, L6P 4G4</td>\n",
       "      <td>Detached</td>\n",
       "      <td>House</td>\n",
       "      <td>Central air conditioning</td>\n",
       "      <td>Forced air</td>\n",
       "      <td>1</td>\n",
       "      <td>5+3 Beds</td>\n",
       "      <td>6 Baths</td>\n",
       "    </tr>\n",
       "    <tr>\n",
       "      <th>2</th>\n",
       "      <td>43.621861</td>\n",
       "      <td>-79.943877</td>\n",
       "      <td>$1,699,900</td>\n",
       "      <td>63 MONARCH DR, Halton Hills, Ontario, L7G 0H9</td>\n",
       "      <td>Detached</td>\n",
       "      <td>House</td>\n",
       "      <td>Central air conditioning</td>\n",
       "      <td>Forced air</td>\n",
       "      <td>1</td>\n",
       "      <td>5 Beds</td>\n",
       "      <td>5 Baths</td>\n",
       "    </tr>\n",
       "    <tr>\n",
       "      <th>3</th>\n",
       "      <td>43.925186</td>\n",
       "      <td>-79.786421</td>\n",
       "      <td>$1,200,000</td>\n",
       "      <td>200 KINGSVIEW DR, Caledon, Ontario, L7E 3W7</td>\n",
       "      <td>Detached</td>\n",
       "      <td>House</td>\n",
       "      <td>Central air conditioning</td>\n",
       "      <td>Forced air</td>\n",
       "      <td>1</td>\n",
       "      <td>3+1 Beds</td>\n",
       "      <td>3 Baths</td>\n",
       "    </tr>\n",
       "    <tr>\n",
       "      <th>4</th>\n",
       "      <td>43.709229</td>\n",
       "      <td>-79.513598</td>\n",
       "      <td>$1,020,000</td>\n",
       "      <td>40 PATIKA AVE, Toronto, Ontario, M9N 2E9</td>\n",
       "      <td>Detached</td>\n",
       "      <td>House</td>\n",
       "      <td>Central air conditioning</td>\n",
       "      <td>Forced air</td>\n",
       "      <td>1</td>\n",
       "      <td>3+1 Beds</td>\n",
       "      <td>3 Baths</td>\n",
       "    </tr>\n",
       "  </tbody>\n",
       "</table>\n",
       "</div>"
      ],
      "text/plain": [
       "         lat        lon       price  \\\n",
       "0  43.743931 -79.358975  $2,688,000   \n",
       "1  43.685815 -79.759934  $1,899,990   \n",
       "2  43.621861 -79.943877  $1,699,900   \n",
       "3  43.925186 -79.786421  $1,200,000   \n",
       "4  43.709229 -79.513598  $1,020,000   \n",
       "\n",
       "                                         address     style building_type  \\\n",
       "0       17 BRAMBLE DR, Toronto, Ontario, M3B 2E9  Detached         House   \n",
       "1      1 LANDVIEW RD, Brampton, Ontario, L6P 4G4  Detached         House   \n",
       "2  63 MONARCH DR, Halton Hills, Ontario, L7G 0H9  Detached         House   \n",
       "3    200 KINGSVIEW DR, Caledon, Ontario, L7E 3W7  Detached         House   \n",
       "4       40 PATIKA AVE, Toronto, Ontario, M9N 2E9  Detached         House   \n",
       "\n",
       "               cooling_type heating_type  fire_place number_of_beds  \\\n",
       "0  Central air conditioning   Forced air           1         3 Beds   \n",
       "1  Central air conditioning   Forced air           1       5+3 Beds   \n",
       "2  Central air conditioning   Forced air           1         5 Beds   \n",
       "3  Central air conditioning   Forced air           1       3+1 Beds   \n",
       "4  Central air conditioning   Forced air           1       3+1 Beds   \n",
       "\n",
       "  number_of_baths  \n",
       "0         3 Baths  \n",
       "1         6 Baths  \n",
       "2         5 Baths  \n",
       "3         3 Baths  \n",
       "4         3 Baths  "
      ]
     },
     "execution_count": 2,
     "metadata": {},
     "output_type": "execute_result"
    }
   ],
   "source": [
    "df = pd.read_csv('./Resources/housing.csv')\n",
    "df.head()"
   ]
  },
  {
   "cell_type": "code",
   "execution_count": 3,
   "metadata": {},
   "outputs": [
    {
     "data": {
      "text/plain": [
       "(1012, 11)"
      ]
     },
     "execution_count": 3,
     "metadata": {},
     "output_type": "execute_result"
    }
   ],
   "source": [
    "# (Row(s), Column(s))\n",
    "df.shape"
   ]
  },
  {
   "cell_type": "code",
   "execution_count": 4,
   "metadata": {},
   "outputs": [],
   "source": [
    "# Drop any duplicates and NaN values\n",
    "df = df.drop_duplicates().dropna()\n"
   ]
  },
  {
   "cell_type": "code",
   "execution_count": 5,
   "metadata": {},
   "outputs": [
    {
     "name": "stdout",
     "output_type": "stream",
     "text": [
      "<class 'pandas.core.frame.DataFrame'>\n",
      "Int64Index: 928 entries, 0 to 1011\n",
      "Data columns (total 11 columns):\n",
      " #   Column           Non-Null Count  Dtype  \n",
      "---  ------           --------------  -----  \n",
      " 0   lat              928 non-null    float64\n",
      " 1   lon              928 non-null    float64\n",
      " 2   price            928 non-null    object \n",
      " 3   address          928 non-null    object \n",
      " 4   style            928 non-null    object \n",
      " 5   building_type    928 non-null    object \n",
      " 6   cooling_type     928 non-null    object \n",
      " 7   heating_type     928 non-null    object \n",
      " 8   fire_place       928 non-null    int64  \n",
      " 9   number_of_beds   928 non-null    object \n",
      " 10  number_of_baths  928 non-null    object \n",
      "dtypes: float64(2), int64(1), object(8)\n",
      "memory usage: 87.0+ KB\n"
     ]
    }
   ],
   "source": [
    "df.info()"
   ]
  },
  {
   "cell_type": "code",
   "execution_count": 6,
   "metadata": {},
   "outputs": [
    {
     "name": "stderr",
     "output_type": "stream",
     "text": [
      "C:\\Users\\User\\AppData\\Local\\Temp\\ipykernel_22168\\536988268.py:2: FutureWarning: The default value of regex will change from True to False in a future version.\n",
      "  df['price']= df['price'].str.replace(r'\\D', '').astype(float)\n"
     ]
    }
   ],
   "source": [
    "# Format price column and change data type\n",
    "df['price']= df['price'].str.replace(r'\\D', '').astype(float)\n"
   ]
  },
  {
   "cell_type": "code",
   "execution_count": 7,
   "metadata": {},
   "outputs": [
    {
     "data": {
      "text/plain": [
       "Index(['lat', 'lon', 'price', 'address', 'style', 'building_type',\n",
       "       'cooling_type', 'heating_type', 'fire_place', 'number_of_beds',\n",
       "       'number_of_baths'],\n",
       "      dtype='object')"
      ]
     },
     "execution_count": 7,
     "metadata": {},
     "output_type": "execute_result"
    }
   ],
   "source": [
    "df.columns"
   ]
  },
  {
   "cell_type": "code",
   "execution_count": 8,
   "metadata": {},
   "outputs": [],
   "source": [
    "# # Fix 'fire_place column to either Yes=1/No=0\n",
    "# df.loc[df['fire_place'] == 'Yes', 'fire_place'] = 1"
   ]
  },
  {
   "cell_type": "code",
   "execution_count": 9,
   "metadata": {},
   "outputs": [
    {
     "data": {
      "text/plain": [
       "array(['3 Beds', '5+3 Beds', '5 Beds', '3+1 Beds', '4 Beds', '3+2 Beds',\n",
       "       '4+1 Beds', '4+2 Beds', '2+2 Beds', '2+1 Beds', '2 Beds',\n",
       "       '3+3 Beds', '4+3 Beds', '2+3 Beds', '1+2 Beds', '1+3 Beds',\n",
       "       '1+1 Beds', '4+4 Beds', '5+2 Beds', '6 Beds', '5+1 Beds', '1 Beds',\n",
       "       '6+1 Beds'], dtype=object)"
      ]
     },
     "execution_count": 9,
     "metadata": {},
     "output_type": "execute_result"
    }
   ],
   "source": [
    "# Find different values for 'number_of_beds' column\n",
    "df['number_of_beds'].unique()"
   ]
  },
  {
   "cell_type": "code",
   "execution_count": 10,
   "metadata": {},
   "outputs": [
    {
     "data": {
      "text/html": [
       "<div>\n",
       "<style scoped>\n",
       "    .dataframe tbody tr th:only-of-type {\n",
       "        vertical-align: middle;\n",
       "    }\n",
       "\n",
       "    .dataframe tbody tr th {\n",
       "        vertical-align: top;\n",
       "    }\n",
       "\n",
       "    .dataframe thead th {\n",
       "        text-align: right;\n",
       "    }\n",
       "</style>\n",
       "<table border=\"1\" class=\"dataframe\">\n",
       "  <thead>\n",
       "    <tr style=\"text-align: right;\">\n",
       "      <th></th>\n",
       "      <th>lat</th>\n",
       "      <th>lon</th>\n",
       "      <th>price</th>\n",
       "      <th>address</th>\n",
       "      <th>style</th>\n",
       "      <th>building_type</th>\n",
       "      <th>cooling_type</th>\n",
       "      <th>heating_type</th>\n",
       "      <th>fire_place</th>\n",
       "      <th>number_of_beds</th>\n",
       "      <th>number_of_baths</th>\n",
       "      <th>extra_space</th>\n",
       "    </tr>\n",
       "  </thead>\n",
       "  <tbody>\n",
       "    <tr>\n",
       "      <th>0</th>\n",
       "      <td>43.743931</td>\n",
       "      <td>-79.358975</td>\n",
       "      <td>2688000.0</td>\n",
       "      <td>17 BRAMBLE DR, Toronto, Ontario, M3B 2E9</td>\n",
       "      <td>Detached</td>\n",
       "      <td>House</td>\n",
       "      <td>Central air conditioning</td>\n",
       "      <td>Forced air</td>\n",
       "      <td>1</td>\n",
       "      <td>3 Beds</td>\n",
       "      <td>3 Baths</td>\n",
       "      <td>0</td>\n",
       "    </tr>\n",
       "    <tr>\n",
       "      <th>1</th>\n",
       "      <td>43.685815</td>\n",
       "      <td>-79.759934</td>\n",
       "      <td>1899990.0</td>\n",
       "      <td>1 LANDVIEW RD, Brampton, Ontario, L6P 4G4</td>\n",
       "      <td>Detached</td>\n",
       "      <td>House</td>\n",
       "      <td>Central air conditioning</td>\n",
       "      <td>Forced air</td>\n",
       "      <td>1</td>\n",
       "      <td>5+3 Beds</td>\n",
       "      <td>6 Baths</td>\n",
       "      <td>1</td>\n",
       "    </tr>\n",
       "    <tr>\n",
       "      <th>2</th>\n",
       "      <td>43.621861</td>\n",
       "      <td>-79.943877</td>\n",
       "      <td>1699900.0</td>\n",
       "      <td>63 MONARCH DR, Halton Hills, Ontario, L7G 0H9</td>\n",
       "      <td>Detached</td>\n",
       "      <td>House</td>\n",
       "      <td>Central air conditioning</td>\n",
       "      <td>Forced air</td>\n",
       "      <td>1</td>\n",
       "      <td>5 Beds</td>\n",
       "      <td>5 Baths</td>\n",
       "      <td>0</td>\n",
       "    </tr>\n",
       "  </tbody>\n",
       "</table>\n",
       "</div>"
      ],
      "text/plain": [
       "         lat        lon      price  \\\n",
       "0  43.743931 -79.358975  2688000.0   \n",
       "1  43.685815 -79.759934  1899990.0   \n",
       "2  43.621861 -79.943877  1699900.0   \n",
       "\n",
       "                                         address     style building_type  \\\n",
       "0       17 BRAMBLE DR, Toronto, Ontario, M3B 2E9  Detached         House   \n",
       "1      1 LANDVIEW RD, Brampton, Ontario, L6P 4G4  Detached         House   \n",
       "2  63 MONARCH DR, Halton Hills, Ontario, L7G 0H9  Detached         House   \n",
       "\n",
       "               cooling_type heating_type  fire_place number_of_beds  \\\n",
       "0  Central air conditioning   Forced air           1         3 Beds   \n",
       "1  Central air conditioning   Forced air           1       5+3 Beds   \n",
       "2  Central air conditioning   Forced air           1         5 Beds   \n",
       "\n",
       "  number_of_baths  extra_space  \n",
       "0         3 Baths            0  \n",
       "1         6 Baths            1  \n",
       "2         5 Baths            0  "
      ]
     },
     "execution_count": 10,
     "metadata": {},
     "output_type": "execute_result"
    }
   ],
   "source": [
    "# Create 'extra_space' column if '+' is found in 'number_of_beds' column\n",
    "ex_space = []\n",
    "for i in range(len(df)):\n",
    "    row = df['number_of_beds'].iloc[i]\n",
    "    if '+' in row:\n",
    "        ex_space.append(1)\n",
    "    else:\n",
    "        ex_space.append(0)\n",
    "\n",
    "df['extra_space'] = ex_space\n",
    "\n",
    "df.head(3)"
   ]
  },
  {
   "cell_type": "code",
   "execution_count": 11,
   "metadata": {},
   "outputs": [
    {
     "data": {
      "text/html": [
       "<div>\n",
       "<style scoped>\n",
       "    .dataframe tbody tr th:only-of-type {\n",
       "        vertical-align: middle;\n",
       "    }\n",
       "\n",
       "    .dataframe tbody tr th {\n",
       "        vertical-align: top;\n",
       "    }\n",
       "\n",
       "    .dataframe thead th {\n",
       "        text-align: right;\n",
       "    }\n",
       "</style>\n",
       "<table border=\"1\" class=\"dataframe\">\n",
       "  <thead>\n",
       "    <tr style=\"text-align: right;\">\n",
       "      <th></th>\n",
       "      <th>price</th>\n",
       "      <th>lat</th>\n",
       "      <th>lon</th>\n",
       "      <th>city</th>\n",
       "      <th>style</th>\n",
       "      <th>building_type</th>\n",
       "      <th>cooling_type</th>\n",
       "      <th>heating_type</th>\n",
       "      <th>number_of_beds</th>\n",
       "      <th>number_of_baths</th>\n",
       "      <th>extra_space</th>\n",
       "      <th>fire_place</th>\n",
       "    </tr>\n",
       "  </thead>\n",
       "  <tbody>\n",
       "    <tr>\n",
       "      <th>0</th>\n",
       "      <td>2688000.0</td>\n",
       "      <td>43.743931</td>\n",
       "      <td>-79.358975</td>\n",
       "      <td>Toronto</td>\n",
       "      <td>Detached</td>\n",
       "      <td>House</td>\n",
       "      <td>Central air conditioning</td>\n",
       "      <td>Forced air</td>\n",
       "      <td>3 Beds</td>\n",
       "      <td>3 Baths</td>\n",
       "      <td>0</td>\n",
       "      <td>1</td>\n",
       "    </tr>\n",
       "    <tr>\n",
       "      <th>1</th>\n",
       "      <td>1899990.0</td>\n",
       "      <td>43.685815</td>\n",
       "      <td>-79.759934</td>\n",
       "      <td>Brampton</td>\n",
       "      <td>Detached</td>\n",
       "      <td>House</td>\n",
       "      <td>Central air conditioning</td>\n",
       "      <td>Forced air</td>\n",
       "      <td>5+3 Beds</td>\n",
       "      <td>6 Baths</td>\n",
       "      <td>1</td>\n",
       "      <td>1</td>\n",
       "    </tr>\n",
       "    <tr>\n",
       "      <th>2</th>\n",
       "      <td>1699900.0</td>\n",
       "      <td>43.621861</td>\n",
       "      <td>-79.943877</td>\n",
       "      <td>Halton Hills</td>\n",
       "      <td>Detached</td>\n",
       "      <td>House</td>\n",
       "      <td>Central air conditioning</td>\n",
       "      <td>Forced air</td>\n",
       "      <td>5 Beds</td>\n",
       "      <td>5 Baths</td>\n",
       "      <td>0</td>\n",
       "      <td>1</td>\n",
       "    </tr>\n",
       "  </tbody>\n",
       "</table>\n",
       "</div>"
      ],
      "text/plain": [
       "       price        lat        lon           city     style building_type  \\\n",
       "0  2688000.0  43.743931 -79.358975        Toronto  Detached         House   \n",
       "1  1899990.0  43.685815 -79.759934       Brampton  Detached         House   \n",
       "2  1699900.0  43.621861 -79.943877   Halton Hills  Detached         House   \n",
       "\n",
       "               cooling_type heating_type number_of_beds number_of_baths  \\\n",
       "0  Central air conditioning   Forced air         3 Beds         3 Baths   \n",
       "1  Central air conditioning   Forced air       5+3 Beds         6 Baths   \n",
       "2  Central air conditioning   Forced air         5 Beds         5 Baths   \n",
       "\n",
       "   extra_space  fire_place  \n",
       "0            0           1  \n",
       "1            1           1  \n",
       "2            0           1  "
      ]
     },
     "execution_count": 11,
     "metadata": {},
     "output_type": "execute_result"
    }
   ],
   "source": [
    "# Splt up 'address' column\n",
    "df[['street', 'city', 'province','postal_code']] = df.address.str.split(',', expand=True)\n",
    "\n",
    "# Drop 'address column\n",
    "df = df.drop(columns=['address','street', 'province','postal_code'])\n",
    "\n",
    "# Rearrange dataframe\n",
    "df = df.reindex(columns=['price','lat','lon','city','style','building_type', 'cooling_type', 'heating_type', 'number_of_beds', 'number_of_baths','extra_space','fire_place'])\n",
    "\n",
    "df.head(3)"
   ]
  },
  {
   "cell_type": "code",
   "execution_count": 12,
   "metadata": {},
   "outputs": [],
   "source": [
    "df['city'] = df['city'].str.strip()\n"
   ]
  },
  {
   "cell_type": "code",
   "execution_count": 13,
   "metadata": {},
   "outputs": [
    {
     "name": "stderr",
     "output_type": "stream",
     "text": [
      "C:\\Users\\User\\AppData\\Local\\Temp\\ipykernel_22168\\968850296.py:2: FutureWarning: The default value of regex will change from True to False in a future version.\n",
      "  df['number_of_beds'] = df['number_of_beds'].str.replace(r'[+][1234]\\s(Beds)|\\s(Beds)', '').astype(int)\n"
     ]
    }
   ],
   "source": [
    "# Strip and turn 'number_of_beds' column to an integer\n",
    "df['number_of_beds'] = df['number_of_beds'].str.replace(r'[+][1234]\\s(Beds)|\\s(Beds)', '').astype(int)"
   ]
  },
  {
   "cell_type": "code",
   "execution_count": 14,
   "metadata": {},
   "outputs": [
    {
     "name": "stderr",
     "output_type": "stream",
     "text": [
      "C:\\Users\\User\\AppData\\Local\\Temp\\ipykernel_22168\\1945002919.py:2: FutureWarning: The default value of regex will change from True to False in a future version.\n",
      "  df['number_of_baths'] = df['number_of_baths'].str.replace(r'\\D', '').astype(int)\n"
     ]
    }
   ],
   "source": [
    "# Remove Bath(s) from column\n",
    "df['number_of_baths'] = df['number_of_baths'].str.replace(r'\\D', '').astype(int)"
   ]
  },
  {
   "cell_type": "code",
   "execution_count": 15,
   "metadata": {},
   "outputs": [
    {
     "data": {
      "text/html": [
       "<div>\n",
       "<style scoped>\n",
       "    .dataframe tbody tr th:only-of-type {\n",
       "        vertical-align: middle;\n",
       "    }\n",
       "\n",
       "    .dataframe tbody tr th {\n",
       "        vertical-align: top;\n",
       "    }\n",
       "\n",
       "    .dataframe thead th {\n",
       "        text-align: right;\n",
       "    }\n",
       "</style>\n",
       "<table border=\"1\" class=\"dataframe\">\n",
       "  <thead>\n",
       "    <tr style=\"text-align: right;\">\n",
       "      <th></th>\n",
       "      <th>price</th>\n",
       "      <th>lat</th>\n",
       "      <th>lon</th>\n",
       "      <th>city</th>\n",
       "      <th>style</th>\n",
       "      <th>building_type</th>\n",
       "      <th>cooling_type</th>\n",
       "      <th>heating_type</th>\n",
       "      <th>number_of_beds</th>\n",
       "      <th>number_of_baths</th>\n",
       "      <th>extra_space</th>\n",
       "      <th>fire_place</th>\n",
       "    </tr>\n",
       "  </thead>\n",
       "  <tbody>\n",
       "    <tr>\n",
       "      <th>0</th>\n",
       "      <td>2688000.0</td>\n",
       "      <td>43.743931</td>\n",
       "      <td>-79.358975</td>\n",
       "      <td>Toronto</td>\n",
       "      <td>Detached</td>\n",
       "      <td>House</td>\n",
       "      <td>Central air conditioning</td>\n",
       "      <td>Forced air</td>\n",
       "      <td>3</td>\n",
       "      <td>3</td>\n",
       "      <td>0</td>\n",
       "      <td>1</td>\n",
       "    </tr>\n",
       "    <tr>\n",
       "      <th>1</th>\n",
       "      <td>1899990.0</td>\n",
       "      <td>43.685815</td>\n",
       "      <td>-79.759934</td>\n",
       "      <td>Brampton</td>\n",
       "      <td>Detached</td>\n",
       "      <td>House</td>\n",
       "      <td>Central air conditioning</td>\n",
       "      <td>Forced air</td>\n",
       "      <td>5</td>\n",
       "      <td>6</td>\n",
       "      <td>1</td>\n",
       "      <td>1</td>\n",
       "    </tr>\n",
       "    <tr>\n",
       "      <th>2</th>\n",
       "      <td>1699900.0</td>\n",
       "      <td>43.621861</td>\n",
       "      <td>-79.943877</td>\n",
       "      <td>Halton Hills</td>\n",
       "      <td>Detached</td>\n",
       "      <td>House</td>\n",
       "      <td>Central air conditioning</td>\n",
       "      <td>Forced air</td>\n",
       "      <td>5</td>\n",
       "      <td>5</td>\n",
       "      <td>0</td>\n",
       "      <td>1</td>\n",
       "    </tr>\n",
       "  </tbody>\n",
       "</table>\n",
       "</div>"
      ],
      "text/plain": [
       "       price        lat        lon          city     style building_type  \\\n",
       "0  2688000.0  43.743931 -79.358975       Toronto  Detached         House   \n",
       "1  1899990.0  43.685815 -79.759934      Brampton  Detached         House   \n",
       "2  1699900.0  43.621861 -79.943877  Halton Hills  Detached         House   \n",
       "\n",
       "               cooling_type heating_type  number_of_beds  number_of_baths  \\\n",
       "0  Central air conditioning   Forced air               3                3   \n",
       "1  Central air conditioning   Forced air               5                6   \n",
       "2  Central air conditioning   Forced air               5                5   \n",
       "\n",
       "   extra_space  fire_place  \n",
       "0            0           1  \n",
       "1            1           1  \n",
       "2            0           1  "
      ]
     },
     "execution_count": 15,
     "metadata": {},
     "output_type": "execute_result"
    }
   ],
   "source": [
    "# Final cleaned dataframe\n",
    "df.head(3)"
   ]
  },
  {
   "cell_type": "code",
   "execution_count": 16,
   "metadata": {},
   "outputs": [
    {
     "name": "stdout",
     "output_type": "stream",
     "text": [
      "<class 'pandas.core.frame.DataFrame'>\n",
      "Int64Index: 928 entries, 0 to 1011\n",
      "Data columns (total 12 columns):\n",
      " #   Column           Non-Null Count  Dtype  \n",
      "---  ------           --------------  -----  \n",
      " 0   price            928 non-null    float64\n",
      " 1   lat              928 non-null    float64\n",
      " 2   lon              928 non-null    float64\n",
      " 3   city             928 non-null    object \n",
      " 4   style            928 non-null    object \n",
      " 5   building_type    928 non-null    object \n",
      " 6   cooling_type     928 non-null    object \n",
      " 7   heating_type     928 non-null    object \n",
      " 8   number_of_beds   928 non-null    int32  \n",
      " 9   number_of_baths  928 non-null    int32  \n",
      " 10  extra_space      928 non-null    int64  \n",
      " 11  fire_place       928 non-null    int64  \n",
      "dtypes: float64(3), int32(2), int64(2), object(5)\n",
      "memory usage: 87.0+ KB\n"
     ]
    }
   ],
   "source": [
    "df.info()"
   ]
  },
  {
   "cell_type": "code",
   "execution_count": 17,
   "metadata": {},
   "outputs": [],
   "source": [
    "# Export to csv file\n",
    "df.to_csv('predicting_house_price.csv')\n"
   ]
  }
 ],
 "metadata": {
  "kernelspec": {
   "display_name": "Python 3 (ipykernel)",
   "language": "python",
   "name": "python3"
  },
  "language_info": {
   "codemirror_mode": {
    "name": "ipython",
    "version": 3
   },
   "file_extension": ".py",
   "mimetype": "text/x-python",
   "name": "python",
   "nbconvert_exporter": "python",
   "pygments_lexer": "ipython3",
   "version": "3.9.12"
  }
 },
 "nbformat": 4,
 "nbformat_minor": 2
}
