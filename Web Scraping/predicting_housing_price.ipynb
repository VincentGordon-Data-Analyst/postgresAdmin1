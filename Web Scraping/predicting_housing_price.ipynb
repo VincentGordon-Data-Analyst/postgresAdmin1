{
 "cells": [
  {
   "cell_type": "code",
   "execution_count": 913,
   "metadata": {},
   "outputs": [],
   "source": [
    "import pandas as pd"
   ]
  },
  {
   "cell_type": "code",
   "execution_count": 914,
   "metadata": {},
   "outputs": [
    {
     "data": {
      "text/html": [
       "<div>\n",
       "<style scoped>\n",
       "    .dataframe tbody tr th:only-of-type {\n",
       "        vertical-align: middle;\n",
       "    }\n",
       "\n",
       "    .dataframe tbody tr th {\n",
       "        vertical-align: top;\n",
       "    }\n",
       "\n",
       "    .dataframe thead th {\n",
       "        text-align: right;\n",
       "    }\n",
       "</style>\n",
       "<table border=\"1\" class=\"dataframe\">\n",
       "  <thead>\n",
       "    <tr style=\"text-align: right;\">\n",
       "      <th></th>\n",
       "      <th>lat</th>\n",
       "      <th>lon</th>\n",
       "      <th>address</th>\n",
       "      <th>style</th>\n",
       "      <th>building_type</th>\n",
       "      <th>cooling_type</th>\n",
       "      <th>heating_type</th>\n",
       "      <th>fire_place</th>\n",
       "      <th>price</th>\n",
       "      <th>number_of_beds</th>\n",
       "      <th>number_of_baths</th>\n",
       "    </tr>\n",
       "  </thead>\n",
       "  <tbody>\n",
       "    <tr>\n",
       "      <th>0</th>\n",
       "      <td>43.333410</td>\n",
       "      <td>-79.882930</td>\n",
       "      <td>383 Dundas Street E|Unit #48, Waterdown, Ontar...</td>\n",
       "      <td>Townhouse</td>\n",
       "      <td>Row / Townhouse</td>\n",
       "      <td>Central air conditioning</td>\n",
       "      <td>Forced air</td>\n",
       "      <td>0</td>\n",
       "      <td>$749,900</td>\n",
       "      <td>2 Beds</td>\n",
       "      <td>3 Baths</td>\n",
       "    </tr>\n",
       "    <tr>\n",
       "      <th>1</th>\n",
       "      <td>43.856371</td>\n",
       "      <td>-79.337682</td>\n",
       "      <td>6 HONEYBOURNE CRES, Markham, Ontario, L3P 1P3</td>\n",
       "      <td>Detached</td>\n",
       "      <td>House</td>\n",
       "      <td>Central air conditioning</td>\n",
       "      <td>Forced air</td>\n",
       "      <td>1</td>\n",
       "      <td>$2,998,000</td>\n",
       "      <td>5+1 Beds</td>\n",
       "      <td>8 Baths</td>\n",
       "    </tr>\n",
       "    <tr>\n",
       "      <th>2</th>\n",
       "      <td>43.670890</td>\n",
       "      <td>-79.316931</td>\n",
       "      <td>83 BOARDWALK DR, Toronto, Ontario, M4L 3X9</td>\n",
       "      <td>Detached</td>\n",
       "      <td>House</td>\n",
       "      <td>Central air conditioning</td>\n",
       "      <td>Forced air</td>\n",
       "      <td>1</td>\n",
       "      <td>$2,599,900</td>\n",
       "      <td>3 Beds</td>\n",
       "      <td>4 Baths</td>\n",
       "    </tr>\n",
       "    <tr>\n",
       "      <th>3</th>\n",
       "      <td>43.589623</td>\n",
       "      <td>-79.644388</td>\n",
       "      <td>#A -41 BROADVIEW AVE, Mississauga, Ontario, L5...</td>\n",
       "      <td>Semi-Detached</td>\n",
       "      <td>House</td>\n",
       "      <td>Central air conditioning</td>\n",
       "      <td>Forced air</td>\n",
       "      <td>0</td>\n",
       "      <td>$2,499,850</td>\n",
       "      <td>4+1 Beds</td>\n",
       "      <td>4 Baths</td>\n",
       "    </tr>\n",
       "    <tr>\n",
       "      <th>4</th>\n",
       "      <td>43.447436</td>\n",
       "      <td>-79.666672</td>\n",
       "      <td>2158 PINEVIEW DR, Oakville, Ontario, L6H 5M3</td>\n",
       "      <td>Detached</td>\n",
       "      <td>House</td>\n",
       "      <td>Central air conditioning</td>\n",
       "      <td>Forced air</td>\n",
       "      <td>1</td>\n",
       "      <td>$1,999,000</td>\n",
       "      <td>5 Beds</td>\n",
       "      <td>4 Baths</td>\n",
       "    </tr>\n",
       "  </tbody>\n",
       "</table>\n",
       "</div>"
      ],
      "text/plain": [
       "         lat        lon                                            address  \\\n",
       "0  43.333410 -79.882930  383 Dundas Street E|Unit #48, Waterdown, Ontar...   \n",
       "1  43.856371 -79.337682      6 HONEYBOURNE CRES, Markham, Ontario, L3P 1P3   \n",
       "2  43.670890 -79.316931         83 BOARDWALK DR, Toronto, Ontario, M4L 3X9   \n",
       "3  43.589623 -79.644388  #A -41 BROADVIEW AVE, Mississauga, Ontario, L5...   \n",
       "4  43.447436 -79.666672       2158 PINEVIEW DR, Oakville, Ontario, L6H 5M3   \n",
       "\n",
       "           style    building_type              cooling_type heating_type  \\\n",
       "0      Townhouse  Row / Townhouse  Central air conditioning   Forced air   \n",
       "1       Detached            House  Central air conditioning   Forced air   \n",
       "2       Detached            House  Central air conditioning   Forced air   \n",
       "3  Semi-Detached            House  Central air conditioning   Forced air   \n",
       "4       Detached            House  Central air conditioning   Forced air   \n",
       "\n",
       "   fire_place       price number_of_beds number_of_baths  \n",
       "0           0    $749,900         2 Beds         3 Baths  \n",
       "1           1  $2,998,000       5+1 Beds         8 Baths  \n",
       "2           1  $2,599,900         3 Beds         4 Baths  \n",
       "3           0  $2,499,850       4+1 Beds         4 Baths  \n",
       "4           1  $1,999,000         5 Beds         4 Baths  "
      ]
     },
     "execution_count": 914,
     "metadata": {},
     "output_type": "execute_result"
    }
   ],
   "source": [
    "df = pd.read_csv('./Resources/housing.csv')\n",
    "df.head()"
   ]
  },
  {
   "cell_type": "code",
   "execution_count": 915,
   "metadata": {},
   "outputs": [
    {
     "data": {
      "text/plain": [
       "(633, 11)"
      ]
     },
     "execution_count": 915,
     "metadata": {},
     "output_type": "execute_result"
    }
   ],
   "source": [
    "# (Row(s), Column(s))\n",
    "df.shape"
   ]
  },
  {
   "cell_type": "code",
   "execution_count": 916,
   "metadata": {},
   "outputs": [],
   "source": [
    "# Drop any duplicates and NaN values\n",
    "df = df.drop_duplicates().dropna()\n"
   ]
  },
  {
   "cell_type": "code",
   "execution_count": 917,
   "metadata": {},
   "outputs": [
    {
     "name": "stdout",
     "output_type": "stream",
     "text": [
      "<class 'pandas.core.frame.DataFrame'>\n",
      "Int64Index: 609 entries, 0 to 632\n",
      "Data columns (total 11 columns):\n",
      " #   Column           Non-Null Count  Dtype  \n",
      "---  ------           --------------  -----  \n",
      " 0   lat              609 non-null    float64\n",
      " 1   lon              609 non-null    float64\n",
      " 2   address          609 non-null    object \n",
      " 3   style            609 non-null    object \n",
      " 4   building_type    609 non-null    object \n",
      " 5   cooling_type     609 non-null    object \n",
      " 6   heating_type     609 non-null    object \n",
      " 7   fire_place       609 non-null    int64  \n",
      " 8   price            609 non-null    object \n",
      " 9   number_of_beds   609 non-null    object \n",
      " 10  number_of_baths  609 non-null    object \n",
      "dtypes: float64(2), int64(1), object(8)\n",
      "memory usage: 57.1+ KB\n"
     ]
    }
   ],
   "source": [
    "df.info()"
   ]
  },
  {
   "cell_type": "code",
   "execution_count": 918,
   "metadata": {},
   "outputs": [
    {
     "name": "stderr",
     "output_type": "stream",
     "text": [
      "C:\\Users\\User\\AppData\\Local\\Temp\\ipykernel_15192\\536988268.py:2: FutureWarning: The default value of regex will change from True to False in a future version.\n",
      "  df['price']= df['price'].str.replace(r'\\D', '').astype(float)\n"
     ]
    }
   ],
   "source": [
    "# Format price column and change data type\n",
    "df['price']= df['price'].str.replace(r'\\D', '').astype(float)\n"
   ]
  },
  {
   "cell_type": "code",
   "execution_count": 919,
   "metadata": {},
   "outputs": [
    {
     "data": {
      "text/plain": [
       "Index(['lat', 'lon', 'address', 'style', 'building_type', 'cooling_type',\n",
       "       'heating_type', 'fire_place', 'price', 'number_of_beds',\n",
       "       'number_of_baths'],\n",
       "      dtype='object')"
      ]
     },
     "execution_count": 919,
     "metadata": {},
     "output_type": "execute_result"
    }
   ],
   "source": [
    "df.columns"
   ]
  },
  {
   "cell_type": "code",
   "execution_count": 920,
   "metadata": {},
   "outputs": [],
   "source": [
    "# # Fix 'fire_place column to either Yes=1/No=0\n",
    "# df.loc[df['fire_place'] == 'Yes', 'fire_place'] = 1"
   ]
  },
  {
   "cell_type": "code",
   "execution_count": 921,
   "metadata": {},
   "outputs": [
    {
     "data": {
      "text/plain": [
       "array(['2 Beds', '5+1 Beds', '3 Beds', '4+1 Beds', '5 Beds', '4 Beds',\n",
       "       '2+1 Beds', '6 Beds', '3+2 Beds', '4+2 Beds', '3+1 Beds',\n",
       "       '2+2 Beds', '5+3 Beds', '2+3 Beds', '5+2 Beds', '1+1 Beds',\n",
       "       '1 Beds', '3+3 Beds', '4+3 Beds'], dtype=object)"
      ]
     },
     "execution_count": 921,
     "metadata": {},
     "output_type": "execute_result"
    }
   ],
   "source": [
    "# Find different values for 'number_of_beds' column\n",
    "df['number_of_beds'].unique()"
   ]
  },
  {
   "cell_type": "code",
   "execution_count": 922,
   "metadata": {},
   "outputs": [
    {
     "data": {
      "text/html": [
       "<div>\n",
       "<style scoped>\n",
       "    .dataframe tbody tr th:only-of-type {\n",
       "        vertical-align: middle;\n",
       "    }\n",
       "\n",
       "    .dataframe tbody tr th {\n",
       "        vertical-align: top;\n",
       "    }\n",
       "\n",
       "    .dataframe thead th {\n",
       "        text-align: right;\n",
       "    }\n",
       "</style>\n",
       "<table border=\"1\" class=\"dataframe\">\n",
       "  <thead>\n",
       "    <tr style=\"text-align: right;\">\n",
       "      <th></th>\n",
       "      <th>lat</th>\n",
       "      <th>lon</th>\n",
       "      <th>address</th>\n",
       "      <th>style</th>\n",
       "      <th>building_type</th>\n",
       "      <th>cooling_type</th>\n",
       "      <th>heating_type</th>\n",
       "      <th>fire_place</th>\n",
       "      <th>price</th>\n",
       "      <th>number_of_beds</th>\n",
       "      <th>number_of_baths</th>\n",
       "      <th>extra_space</th>\n",
       "    </tr>\n",
       "  </thead>\n",
       "  <tbody>\n",
       "    <tr>\n",
       "      <th>0</th>\n",
       "      <td>43.333410</td>\n",
       "      <td>-79.882930</td>\n",
       "      <td>383 Dundas Street E|Unit #48, Waterdown, Ontar...</td>\n",
       "      <td>Townhouse</td>\n",
       "      <td>Row / Townhouse</td>\n",
       "      <td>Central air conditioning</td>\n",
       "      <td>Forced air</td>\n",
       "      <td>0</td>\n",
       "      <td>749900.0</td>\n",
       "      <td>2 Beds</td>\n",
       "      <td>3 Baths</td>\n",
       "      <td>0</td>\n",
       "    </tr>\n",
       "    <tr>\n",
       "      <th>1</th>\n",
       "      <td>43.856371</td>\n",
       "      <td>-79.337682</td>\n",
       "      <td>6 HONEYBOURNE CRES, Markham, Ontario, L3P 1P3</td>\n",
       "      <td>Detached</td>\n",
       "      <td>House</td>\n",
       "      <td>Central air conditioning</td>\n",
       "      <td>Forced air</td>\n",
       "      <td>1</td>\n",
       "      <td>2998000.0</td>\n",
       "      <td>5+1 Beds</td>\n",
       "      <td>8 Baths</td>\n",
       "      <td>1</td>\n",
       "    </tr>\n",
       "    <tr>\n",
       "      <th>2</th>\n",
       "      <td>43.670890</td>\n",
       "      <td>-79.316931</td>\n",
       "      <td>83 BOARDWALK DR, Toronto, Ontario, M4L 3X9</td>\n",
       "      <td>Detached</td>\n",
       "      <td>House</td>\n",
       "      <td>Central air conditioning</td>\n",
       "      <td>Forced air</td>\n",
       "      <td>1</td>\n",
       "      <td>2599900.0</td>\n",
       "      <td>3 Beds</td>\n",
       "      <td>4 Baths</td>\n",
       "      <td>0</td>\n",
       "    </tr>\n",
       "  </tbody>\n",
       "</table>\n",
       "</div>"
      ],
      "text/plain": [
       "         lat        lon                                            address  \\\n",
       "0  43.333410 -79.882930  383 Dundas Street E|Unit #48, Waterdown, Ontar...   \n",
       "1  43.856371 -79.337682      6 HONEYBOURNE CRES, Markham, Ontario, L3P 1P3   \n",
       "2  43.670890 -79.316931         83 BOARDWALK DR, Toronto, Ontario, M4L 3X9   \n",
       "\n",
       "       style    building_type              cooling_type heating_type  \\\n",
       "0  Townhouse  Row / Townhouse  Central air conditioning   Forced air   \n",
       "1   Detached            House  Central air conditioning   Forced air   \n",
       "2   Detached            House  Central air conditioning   Forced air   \n",
       "\n",
       "   fire_place      price number_of_beds number_of_baths  extra_space  \n",
       "0           0   749900.0         2 Beds         3 Baths            0  \n",
       "1           1  2998000.0       5+1 Beds         8 Baths            1  \n",
       "2           1  2599900.0         3 Beds         4 Baths            0  "
      ]
     },
     "execution_count": 922,
     "metadata": {},
     "output_type": "execute_result"
    }
   ],
   "source": [
    "# Create 'extra_space' column if '+' is found in 'number_of_beds' column\n",
    "ex_space = []\n",
    "for i in range(len(df)):\n",
    "    row = df['number_of_beds'].iloc[i]\n",
    "    if '+' in row:\n",
    "        ex_space.append(1)\n",
    "    else:\n",
    "        ex_space.append(0)\n",
    "\n",
    "df['extra_space'] = ex_space\n",
    "\n",
    "df.head(3)"
   ]
  },
  {
   "cell_type": "code",
   "execution_count": 923,
   "metadata": {},
   "outputs": [
    {
     "data": {
      "text/html": [
       "<div>\n",
       "<style scoped>\n",
       "    .dataframe tbody tr th:only-of-type {\n",
       "        vertical-align: middle;\n",
       "    }\n",
       "\n",
       "    .dataframe tbody tr th {\n",
       "        vertical-align: top;\n",
       "    }\n",
       "\n",
       "    .dataframe thead th {\n",
       "        text-align: right;\n",
       "    }\n",
       "</style>\n",
       "<table border=\"1\" class=\"dataframe\">\n",
       "  <thead>\n",
       "    <tr style=\"text-align: right;\">\n",
       "      <th></th>\n",
       "      <th>lat</th>\n",
       "      <th>lon</th>\n",
       "      <th>city</th>\n",
       "      <th>style</th>\n",
       "      <th>building_type</th>\n",
       "      <th>cooling_type</th>\n",
       "      <th>heating_type</th>\n",
       "      <th>price</th>\n",
       "      <th>number_of_beds</th>\n",
       "      <th>number_of_baths</th>\n",
       "      <th>extra_space</th>\n",
       "      <th>fire_place</th>\n",
       "    </tr>\n",
       "  </thead>\n",
       "  <tbody>\n",
       "    <tr>\n",
       "      <th>0</th>\n",
       "      <td>43.333410</td>\n",
       "      <td>-79.882930</td>\n",
       "      <td>Waterdown</td>\n",
       "      <td>Townhouse</td>\n",
       "      <td>Row / Townhouse</td>\n",
       "      <td>Central air conditioning</td>\n",
       "      <td>Forced air</td>\n",
       "      <td>749900.0</td>\n",
       "      <td>2 Beds</td>\n",
       "      <td>3 Baths</td>\n",
       "      <td>0</td>\n",
       "      <td>0</td>\n",
       "    </tr>\n",
       "    <tr>\n",
       "      <th>1</th>\n",
       "      <td>43.856371</td>\n",
       "      <td>-79.337682</td>\n",
       "      <td>Markham</td>\n",
       "      <td>Detached</td>\n",
       "      <td>House</td>\n",
       "      <td>Central air conditioning</td>\n",
       "      <td>Forced air</td>\n",
       "      <td>2998000.0</td>\n",
       "      <td>5+1 Beds</td>\n",
       "      <td>8 Baths</td>\n",
       "      <td>1</td>\n",
       "      <td>1</td>\n",
       "    </tr>\n",
       "    <tr>\n",
       "      <th>2</th>\n",
       "      <td>43.670890</td>\n",
       "      <td>-79.316931</td>\n",
       "      <td>Toronto</td>\n",
       "      <td>Detached</td>\n",
       "      <td>House</td>\n",
       "      <td>Central air conditioning</td>\n",
       "      <td>Forced air</td>\n",
       "      <td>2599900.0</td>\n",
       "      <td>3 Beds</td>\n",
       "      <td>4 Baths</td>\n",
       "      <td>0</td>\n",
       "      <td>1</td>\n",
       "    </tr>\n",
       "  </tbody>\n",
       "</table>\n",
       "</div>"
      ],
      "text/plain": [
       "         lat        lon        city      style    building_type  \\\n",
       "0  43.333410 -79.882930   Waterdown  Townhouse  Row / Townhouse   \n",
       "1  43.856371 -79.337682     Markham   Detached            House   \n",
       "2  43.670890 -79.316931     Toronto   Detached            House   \n",
       "\n",
       "               cooling_type heating_type      price number_of_beds  \\\n",
       "0  Central air conditioning   Forced air   749900.0         2 Beds   \n",
       "1  Central air conditioning   Forced air  2998000.0       5+1 Beds   \n",
       "2  Central air conditioning   Forced air  2599900.0         3 Beds   \n",
       "\n",
       "  number_of_baths  extra_space  fire_place  \n",
       "0         3 Baths            0           0  \n",
       "1         8 Baths            1           1  \n",
       "2         4 Baths            0           1  "
      ]
     },
     "execution_count": 923,
     "metadata": {},
     "output_type": "execute_result"
    }
   ],
   "source": [
    "# Splt up 'address' column\n",
    "df[['street', 'city', 'province','postal_code']] = df.address.str.split(',', expand=True)\n",
    "\n",
    "# Drop 'address column\n",
    "df = df.drop(columns=['address','street', 'province','postal_code'])\n",
    "\n",
    "# Rearrange dataframe\n",
    "df = df.reindex(columns=['lat','lon','city','style','building_type', 'cooling_type', 'heating_type', 'price', 'number_of_beds', 'number_of_baths','extra_space','fire_place'])\n",
    "\n",
    "df.head(3)"
   ]
  },
  {
   "cell_type": "code",
   "execution_count": 924,
   "metadata": {},
   "outputs": [],
   "source": [
    "df['city'] = df['city'].str.strip()\n"
   ]
  },
  {
   "cell_type": "code",
   "execution_count": 925,
   "metadata": {},
   "outputs": [
    {
     "name": "stderr",
     "output_type": "stream",
     "text": [
      "C:\\Users\\User\\AppData\\Local\\Temp\\ipykernel_15192\\968850296.py:2: FutureWarning: The default value of regex will change from True to False in a future version.\n",
      "  df['number_of_beds'] = df['number_of_beds'].str.replace(r'[+][1234]\\s(Beds)|\\s(Beds)', '').astype(int)\n"
     ]
    }
   ],
   "source": [
    "# Strip and turn 'number_of_beds' column to an integer\n",
    "df['number_of_beds'] = df['number_of_beds'].str.replace(r'[+][1234]\\s(Beds)|\\s(Beds)', '').astype(int)"
   ]
  },
  {
   "cell_type": "code",
   "execution_count": 926,
   "metadata": {},
   "outputs": [
    {
     "name": "stderr",
     "output_type": "stream",
     "text": [
      "C:\\Users\\User\\AppData\\Local\\Temp\\ipykernel_15192\\1945002919.py:2: FutureWarning: The default value of regex will change from True to False in a future version.\n",
      "  df['number_of_baths'] = df['number_of_baths'].str.replace(r'\\D', '').astype(int)\n"
     ]
    }
   ],
   "source": [
    "# Remove Bath(s) from column\n",
    "df['number_of_baths'] = df['number_of_baths'].str.replace(r'\\D', '').astype(int)"
   ]
  },
  {
   "cell_type": "code",
   "execution_count": 927,
   "metadata": {},
   "outputs": [
    {
     "data": {
      "text/html": [
       "<div>\n",
       "<style scoped>\n",
       "    .dataframe tbody tr th:only-of-type {\n",
       "        vertical-align: middle;\n",
       "    }\n",
       "\n",
       "    .dataframe tbody tr th {\n",
       "        vertical-align: top;\n",
       "    }\n",
       "\n",
       "    .dataframe thead th {\n",
       "        text-align: right;\n",
       "    }\n",
       "</style>\n",
       "<table border=\"1\" class=\"dataframe\">\n",
       "  <thead>\n",
       "    <tr style=\"text-align: right;\">\n",
       "      <th></th>\n",
       "      <th>lat</th>\n",
       "      <th>lon</th>\n",
       "      <th>city</th>\n",
       "      <th>style</th>\n",
       "      <th>building_type</th>\n",
       "      <th>cooling_type</th>\n",
       "      <th>heating_type</th>\n",
       "      <th>price</th>\n",
       "      <th>number_of_beds</th>\n",
       "      <th>number_of_baths</th>\n",
       "      <th>extra_space</th>\n",
       "      <th>fire_place</th>\n",
       "    </tr>\n",
       "  </thead>\n",
       "  <tbody>\n",
       "    <tr>\n",
       "      <th>0</th>\n",
       "      <td>43.333410</td>\n",
       "      <td>-79.882930</td>\n",
       "      <td>Waterdown</td>\n",
       "      <td>Townhouse</td>\n",
       "      <td>Row / Townhouse</td>\n",
       "      <td>Central air conditioning</td>\n",
       "      <td>Forced air</td>\n",
       "      <td>749900.0</td>\n",
       "      <td>2</td>\n",
       "      <td>3</td>\n",
       "      <td>0</td>\n",
       "      <td>0</td>\n",
       "    </tr>\n",
       "    <tr>\n",
       "      <th>1</th>\n",
       "      <td>43.856371</td>\n",
       "      <td>-79.337682</td>\n",
       "      <td>Markham</td>\n",
       "      <td>Detached</td>\n",
       "      <td>House</td>\n",
       "      <td>Central air conditioning</td>\n",
       "      <td>Forced air</td>\n",
       "      <td>2998000.0</td>\n",
       "      <td>5</td>\n",
       "      <td>8</td>\n",
       "      <td>1</td>\n",
       "      <td>1</td>\n",
       "    </tr>\n",
       "    <tr>\n",
       "      <th>2</th>\n",
       "      <td>43.670890</td>\n",
       "      <td>-79.316931</td>\n",
       "      <td>Toronto</td>\n",
       "      <td>Detached</td>\n",
       "      <td>House</td>\n",
       "      <td>Central air conditioning</td>\n",
       "      <td>Forced air</td>\n",
       "      <td>2599900.0</td>\n",
       "      <td>3</td>\n",
       "      <td>4</td>\n",
       "      <td>0</td>\n",
       "      <td>1</td>\n",
       "    </tr>\n",
       "  </tbody>\n",
       "</table>\n",
       "</div>"
      ],
      "text/plain": [
       "         lat        lon       city      style    building_type  \\\n",
       "0  43.333410 -79.882930  Waterdown  Townhouse  Row / Townhouse   \n",
       "1  43.856371 -79.337682    Markham   Detached            House   \n",
       "2  43.670890 -79.316931    Toronto   Detached            House   \n",
       "\n",
       "               cooling_type heating_type      price  number_of_beds  \\\n",
       "0  Central air conditioning   Forced air   749900.0               2   \n",
       "1  Central air conditioning   Forced air  2998000.0               5   \n",
       "2  Central air conditioning   Forced air  2599900.0               3   \n",
       "\n",
       "   number_of_baths  extra_space  fire_place  \n",
       "0                3            0           0  \n",
       "1                8            1           1  \n",
       "2                4            0           1  "
      ]
     },
     "execution_count": 927,
     "metadata": {},
     "output_type": "execute_result"
    }
   ],
   "source": [
    "# Final cleaned dataframe\n",
    "df.head(3)"
   ]
  },
  {
   "cell_type": "code",
   "execution_count": 928,
   "metadata": {},
   "outputs": [
    {
     "name": "stdout",
     "output_type": "stream",
     "text": [
      "<class 'pandas.core.frame.DataFrame'>\n",
      "Int64Index: 609 entries, 0 to 632\n",
      "Data columns (total 12 columns):\n",
      " #   Column           Non-Null Count  Dtype  \n",
      "---  ------           --------------  -----  \n",
      " 0   lat              609 non-null    float64\n",
      " 1   lon              609 non-null    float64\n",
      " 2   city             609 non-null    object \n",
      " 3   style            609 non-null    object \n",
      " 4   building_type    609 non-null    object \n",
      " 5   cooling_type     609 non-null    object \n",
      " 6   heating_type     609 non-null    object \n",
      " 7   price            609 non-null    float64\n",
      " 8   number_of_beds   609 non-null    int32  \n",
      " 9   number_of_baths  609 non-null    int32  \n",
      " 10  extra_space      609 non-null    int64  \n",
      " 11  fire_place       609 non-null    int64  \n",
      "dtypes: float64(3), int32(2), int64(2), object(5)\n",
      "memory usage: 57.1+ KB\n"
     ]
    }
   ],
   "source": [
    "df.info()"
   ]
  },
  {
   "cell_type": "code",
   "execution_count": 929,
   "metadata": {},
   "outputs": [],
   "source": [
    "# Export to csv file\n",
    "df.to_csv('predicting_house_price.csv')\n"
   ]
  }
 ],
 "metadata": {
  "kernelspec": {
   "display_name": "Python 3 (ipykernel)",
   "language": "python",
   "name": "python3"
  },
  "language_info": {
   "codemirror_mode": {
    "name": "ipython",
    "version": 3
   },
   "file_extension": ".py",
   "mimetype": "text/x-python",
   "name": "python",
   "nbconvert_exporter": "python",
   "pygments_lexer": "ipython3",
   "version": "3.9.13"
  }
 },
 "nbformat": 4,
 "nbformat_minor": 2
}
