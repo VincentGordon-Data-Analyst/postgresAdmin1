{
 "cells": [
  {
   "cell_type": "code",
   "execution_count": 877,
   "metadata": {},
   "outputs": [],
   "source": [
    "from splinter import Browser\n",
    "from bs4 import BeautifulSoup as bs\n",
    "\n",
    "import requests"
   ]
  },
  {
   "cell_type": "code",
   "execution_count": 892,
   "metadata": {},
   "outputs": [],
   "source": [
    "# Set up Splinter\n",
    "executable_path = {'executable_path':\"C:\\Program Files (x86)\\msedgedriver.exe\"}\n",
    "browser = Browser('edge', **executable_path)\n",
    "\n",
    "# Url for scraping\n",
    "url = \"https://www.royallepage.ca/en/search/homes/?search_str=Ontario%2C+ON%2C+CAN&csrfmiddlewaretoken=GcsQImoB1EVMEnyJwk8nf3sTgzfHs9P17Emzo28q9zTJ9HhkXlyphuMIo74WCgu0&property_type=7%2C8%2C5&house_type=102%2C103%2C104&features=&listing_type=openHouseAvailable&lat=50.926163435000035&lng=-84.74492999999995&upper_lat=&upper_lng=&lower_lat=&lower_lng=&bypass=&radius=&zoom=&display_type=gallery-view&travel_time=&travel_time_min=30&travel_time_mode=drive&travel_time_congestion=&da_id=&segment_id=&tier2=False&tier2_proximity=5&address=Ontario&method=homes&address_type=province&city_name=&prov_code=ON&school_id=&min_price=0&max_price=3000000&min_leaseprice=0&max_leaseprice=5000%2B&beds=0&baths=0&transactionType=SALE&archive_status=All&archive_timespan=6&sfproperty_type%5B7%5D=7&sfproperty_type%5B8%5D=8&sfproperty_type%5B5%5D=5&sflisting_type%5BopenHouseAvailable%5D=openHouseAvailable&sfhouse_type%5B102%5D=102&sfhouse_type%5B103%5D=103&sfhouse_type%5B104%5D=104&keyword=&sortby=\"\n",
    "\n",
    "browser.visit(url)\n",
    "html = browser.html\n",
    "\n",
    "soup = bs(html, 'html.parser')"
   ]
  },
  {
   "cell_type": "code",
   "execution_count": 893,
   "metadata": {},
   "outputs": [
    {
     "name": "stdout",
     "output_type": "stream",
     "text": [
      "Gathering data from page: 1\n",
      "Gathering data from page: 2\n",
      "Gathering data from page: 3\n",
      "Gathering data from page: 4\n",
      "Gathering data from page: 5\n",
      "Gathering data from page: 6\n",
      "Gathering data from page: 7\n",
      "Gathering data from page: 8\n",
      "Gathering data from page: 9\n",
      "Gathering data from page: 10\n",
      "Gathering data from page: 11\n",
      "Gathering data from page: 12\n",
      "Gathering data from page: 13\n",
      "Gathering data from page: 14\n",
      "Gathering data from page: 15\n",
      "Gathering data from page: 16\n",
      "Gathering data from page: 17\n",
      "Gathering data from page: 18\n",
      "Gathering data from page: 19\n",
      "Gathering data from page: 20\n",
      "Gathering data from page: 21\n",
      "Gathering data from page: 22\n"
     ]
    },
    {
     "data": {
      "text/plain": [
       "1012"
      ]
     },
     "execution_count": 893,
     "metadata": {},
     "output_type": "execute_result"
    }
   ],
   "source": [
    "# Go through all pages to collect data\n",
    "house_listings = []\n",
    "for x in range(1, 23):\n",
    "    html = browser.html\n",
    "    soup = bs(html, 'html.parser')\n",
    "    links = soup.find_all(class_='address-1')\n",
    "    \n",
    "    # Get all address listings for buying    \n",
    "    print('Gathering data from page:', x)\n",
    "    for link in links:\n",
    "        \n",
    "        house_listings.append(link.a['href'])\n",
    "    browser.find_by_css('.next').click()\n",
    "\n",
    "# Number of listings\n",
    "len(house_listings)\n"
   ]
  },
  {
   "cell_type": "code",
   "execution_count": 894,
   "metadata": {},
   "outputs": [],
   "source": [
    "browser.quit()"
   ]
  },
  {
   "cell_type": "code",
   "execution_count": 895,
   "metadata": {},
   "outputs": [
    {
     "ename": "WebDriverException",
     "evalue": "Message: unknown error: cannot determine loading status\nfrom target frame detached\n  (Session info: MicrosoftEdge=112.0.1722.39)\n",
     "output_type": "error",
     "traceback": [
      "\u001b[1;31m---------------------------------------------------------------------------\u001b[0m",
      "\u001b[1;31mWebDriverException\u001b[0m                        Traceback (most recent call last)",
      "\u001b[1;32mc:\\Users\\User\\Desktop\\ClassWork\\git\\final-project\\Web Scraping\\house_scrape.ipynb Cell 5\u001b[0m in \u001b[0;36m<cell line: 15>\u001b[1;34m()\u001b[0m\n\u001b[0;32m     <a href='vscode-notebook-cell:/c%3A/Users/User/Desktop/ClassWork/git/final-project/Web%20Scraping/house_scrape.ipynb#W4sZmlsZQ%3D%3D?line=14'>15</a>\u001b[0m \u001b[39mfor\u001b[39;00m i \u001b[39min\u001b[39;00m \u001b[39mrange\u001b[39m(\u001b[39mlen\u001b[39m(house_listings)):\n\u001b[0;32m     <a href='vscode-notebook-cell:/c%3A/Users/User/Desktop/ClassWork/git/final-project/Web%20Scraping/house_scrape.ipynb#W4sZmlsZQ%3D%3D?line=15'>16</a>\u001b[0m     url \u001b[39m=\u001b[39m house_listings[i]\n\u001b[1;32m---> <a href='vscode-notebook-cell:/c%3A/Users/User/Desktop/ClassWork/git/final-project/Web%20Scraping/house_scrape.ipynb#W4sZmlsZQ%3D%3D?line=16'>17</a>\u001b[0m     browser\u001b[39m.\u001b[39;49mvisit(url)\n\u001b[0;32m     <a href='vscode-notebook-cell:/c%3A/Users/User/Desktop/ClassWork/git/final-project/Web%20Scraping/house_scrape.ipynb#W4sZmlsZQ%3D%3D?line=17'>18</a>\u001b[0m     html \u001b[39m=\u001b[39m browser\u001b[39m.\u001b[39mhtml\n\u001b[0;32m     <a href='vscode-notebook-cell:/c%3A/Users/User/Desktop/ClassWork/git/final-project/Web%20Scraping/house_scrape.ipynb#W4sZmlsZQ%3D%3D?line=18'>19</a>\u001b[0m     soup \u001b[39m=\u001b[39m bs(html, \u001b[39m'\u001b[39m\u001b[39mhtml.parser\u001b[39m\u001b[39m'\u001b[39m)\n",
      "File \u001b[1;32mc:\\Users\\User\\anaconda3\\lib\\site-packages\\splinter\\driver\\webdriver\\__init__.py:319\u001b[0m, in \u001b[0;36mBaseWebDriver.visit\u001b[1;34m(self, url)\u001b[0m\n\u001b[0;32m    318\u001b[0m \u001b[39mdef\u001b[39;00m \u001b[39mvisit\u001b[39m(\u001b[39mself\u001b[39m, url):\n\u001b[1;32m--> 319\u001b[0m     \u001b[39mself\u001b[39;49m\u001b[39m.\u001b[39;49mdriver\u001b[39m.\u001b[39;49mget(url)\n",
      "File \u001b[1;32mc:\\Users\\User\\anaconda3\\lib\\site-packages\\selenium\\webdriver\\remote\\webdriver.py:333\u001b[0m, in \u001b[0;36mWebDriver.get\u001b[1;34m(self, url)\u001b[0m\n\u001b[0;32m    329\u001b[0m \u001b[39mdef\u001b[39;00m \u001b[39mget\u001b[39m(\u001b[39mself\u001b[39m, url):\n\u001b[0;32m    330\u001b[0m     \u001b[39m\"\"\"\u001b[39;00m\n\u001b[0;32m    331\u001b[0m \u001b[39m    Loads a web page in the current browser session.\u001b[39;00m\n\u001b[0;32m    332\u001b[0m \u001b[39m    \"\"\"\u001b[39;00m\n\u001b[1;32m--> 333\u001b[0m     \u001b[39mself\u001b[39;49m\u001b[39m.\u001b[39;49mexecute(Command\u001b[39m.\u001b[39;49mGET, {\u001b[39m'\u001b[39;49m\u001b[39murl\u001b[39;49m\u001b[39m'\u001b[39;49m: url})\n",
      "File \u001b[1;32mc:\\Users\\User\\anaconda3\\lib\\site-packages\\selenium\\webdriver\\remote\\webdriver.py:321\u001b[0m, in \u001b[0;36mWebDriver.execute\u001b[1;34m(self, driver_command, params)\u001b[0m\n\u001b[0;32m    319\u001b[0m response \u001b[39m=\u001b[39m \u001b[39mself\u001b[39m\u001b[39m.\u001b[39mcommand_executor\u001b[39m.\u001b[39mexecute(driver_command, params)\n\u001b[0;32m    320\u001b[0m \u001b[39mif\u001b[39;00m response:\n\u001b[1;32m--> 321\u001b[0m     \u001b[39mself\u001b[39;49m\u001b[39m.\u001b[39;49merror_handler\u001b[39m.\u001b[39;49mcheck_response(response)\n\u001b[0;32m    322\u001b[0m     response[\u001b[39m'\u001b[39m\u001b[39mvalue\u001b[39m\u001b[39m'\u001b[39m] \u001b[39m=\u001b[39m \u001b[39mself\u001b[39m\u001b[39m.\u001b[39m_unwrap_value(\n\u001b[0;32m    323\u001b[0m         response\u001b[39m.\u001b[39mget(\u001b[39m'\u001b[39m\u001b[39mvalue\u001b[39m\u001b[39m'\u001b[39m, \u001b[39mNone\u001b[39;00m))\n\u001b[0;32m    324\u001b[0m     \u001b[39mreturn\u001b[39;00m response\n",
      "File \u001b[1;32mc:\\Users\\User\\anaconda3\\lib\\site-packages\\selenium\\webdriver\\remote\\errorhandler.py:242\u001b[0m, in \u001b[0;36mErrorHandler.check_response\u001b[1;34m(self, response)\u001b[0m\n\u001b[0;32m    240\u001b[0m         alert_text \u001b[39m=\u001b[39m value[\u001b[39m'\u001b[39m\u001b[39malert\u001b[39m\u001b[39m'\u001b[39m]\u001b[39m.\u001b[39mget(\u001b[39m'\u001b[39m\u001b[39mtext\u001b[39m\u001b[39m'\u001b[39m)\n\u001b[0;32m    241\u001b[0m     \u001b[39mraise\u001b[39;00m exception_class(message, screen, stacktrace, alert_text)\n\u001b[1;32m--> 242\u001b[0m \u001b[39mraise\u001b[39;00m exception_class(message, screen, stacktrace)\n",
      "\u001b[1;31mWebDriverException\u001b[0m: Message: unknown error: cannot determine loading status\nfrom target frame detached\n  (Session info: MicrosoftEdge=112.0.1722.39)\n"
     ]
    }
   ],
   "source": [
    "# Dependencies\n",
    "import requests\n",
    "import json\n",
    "\n",
    "# Import the API key\n",
    "from config import apiKey\n",
    "\n",
    "# Set up Splinter\n",
    "executable_path = {'executable_path':\"C:\\Program Files (x86)\\msedgedriver.exe\"}\n",
    "browser = Browser('edge', **executable_path)\n",
    "\n",
    "\n",
    "# Visit each listing and grab relevant data\n",
    "house_listing_info = []\n",
    "for i in range(len(house_listings)):\n",
    "    url = house_listings[i]\n",
    "    browser.visit(url)\n",
    "    html = browser.html\n",
    "    soup = bs(html, 'html.parser')\n",
    "    houses = {} \n",
    "    \n",
    "    # Gather information on living space\n",
    "    living_space_section = soup.find('div', class_='property-meta-info')\n",
    "\n",
    "    # Get exact address\n",
    "    address = living_space_section.find('div', class_='title--h2 u-no-margins').text\n",
    "\n",
    "\n",
    "    # Get price\n",
    "    price = living_space_section.find('span', class_=\"title title--h1 price\").text.strip()\n",
    "\n",
    "    \n",
    "    # Get number of beds\n",
    "    bed_info = living_space_section.find('div', class_='bed-bath-box__item beds')\n",
    "    bed_count = bed_info.find('p', class_='bed-bath-box__value').text\n",
    "\n",
    "\n",
    "    # Get number of baths\n",
    "    bath_info = living_space_section.find('div', class_='bed-bath-box__item baths')\n",
    "    bath_count = bath_info.find('p', class_='bed-bath-box__value').text\n",
    "    \n",
    "    \n",
    "    # House features\n",
    "    building_feature_section = soup.find('div', class_=\"details-row\")\n",
    "    labels = building_feature_section.find_all('span', class_='label')\n",
    "    values = building_feature_section.find_all('span', class_=\"value\")\n",
    "    \n",
    "\n",
    "    wanted_features = ['Fireplace', 'Style', 'Cooling Type', 'Heating Type', 'Building Type']\n",
    "    listed_features = []\n",
    "    listed_values = []\n",
    "\n",
    "    for i in range(len(labels)):\n",
    "        listed_features.append(labels[i].text.strip(\":\"))\n",
    "        listed_values.append(values[i].text.strip(\":\"))\n",
    "        \n",
    "    for i in range(len(wanted_features)):   \n",
    "        # Create index/value pairs for each feature\n",
    "        if wanted_features[0] in listed_features:  \n",
    "            fire_place = 1\n",
    "        else:\n",
    "            fire_place = 0\n",
    "            \n",
    "        if wanted_features[1] in listed_features:\n",
    "            style_index = listed_features.index(wanted_features[1])\n",
    "            style_type = listed_values[style_index]\n",
    "        \n",
    "        if wanted_features[2] in listed_features:\n",
    "            cooling_index = listed_features.index(wanted_features[2])\n",
    "            cooling_type = listed_values[cooling_index]\n",
    "\n",
    "        if wanted_features[3] in listed_features:\n",
    "            heating_index = listed_features.index(wanted_features[3])\n",
    "            heating_type = listed_values[heating_index]\n",
    "            \n",
    "        if wanted_features[4] in listed_features:    \n",
    "            building_index = listed_features.index(wanted_features[4])\n",
    "            building_type = listed_values[building_index]\n",
    "        else:\n",
    "            style_place = \"\"\n",
    "            cooling_type = \"\"\n",
    "            heating_type = \"\"\n",
    "            building_type = \"\"\n",
    "            \n",
    "        \n",
    "    # Store in dictionary\n",
    "    houses['address'] = address\n",
    "    houses['price'] = price\n",
    "    houses['number_of_beds'] = bed_count\n",
    "    houses['number_of_baths'] = bath_count\n",
    "    houses['style'] = style_type\n",
    "    houses['cooling_type'] = cooling_type\n",
    "    houses['heating_type'] = heating_type\n",
    "    houses['fire_place'] = fire_place\n",
    "    houses['building_type'] = building_type\n",
    "    \n",
    "    # Build target url with address and apikey\n",
    "    string_search = address.split(\",\")[1:]\n",
    "    new_string = (\",\").join(string_search).strip()                           \n",
    "    \n",
    "    target_url = f\"https://api.geoapify.com/v1/geocode/search?text={new_string}&format=json&apiKey={apiKey}\"\n",
    "    \n",
    "    # Run a request to endpoint and convert result to json\n",
    "    geo_data = requests.get(target_url).json()\n",
    "\n",
    "    # Get coordinate information\n",
    "    lat = geo_data[\"results\"][0][\"lat\"]\n",
    "    lon = geo_data[\"results\"][0][\"lon\"]\n",
    "    \n",
    "    houses['lat'] = lat\n",
    "    houses['lon'] = lon\n",
    "    \n",
    "    # Store information of each house in dictionary \n",
    "    house_listing_info.append(houses)\n",
    "    \n",
    "browser.quit()"
   ]
  },
  {
   "cell_type": "code",
   "execution_count": 896,
   "metadata": {},
   "outputs": [
    {
     "name": "stdout",
     "output_type": "stream",
     "text": [
      "Rows of data to work with: 633\n"
     ]
    }
   ],
   "source": [
    "print(f\"Rows of data to work with: {len(house_listing_info)}\")"
   ]
  },
  {
   "cell_type": "code",
   "execution_count": 897,
   "metadata": {},
   "outputs": [],
   "source": [
    "import csv\n",
    "\n",
    "try:\n",
    "    with open('./Resources/housing.csv', 'w') as csvfile:\n",
    "        writer = csv.DictWriter(csvfile, fieldnames=['lat', 'lon','address','style','building_type', 'cooling_type', 'heating_type', 'fire_place', 'price', 'number_of_beds', 'number_of_baths',])\n",
    "        writer.writeheader()\n",
    "        for data in house_listing_info:\n",
    "            writer.writerow(data)\n",
    "except IOError:\n",
    "    print(\"I/O error\")"
   ]
  },
  {
   "cell_type": "code",
   "execution_count": null,
   "metadata": {},
   "outputs": [],
   "source": []
  }
 ],
 "metadata": {
  "kernelspec": {
   "display_name": "Python 3 (ipykernel)",
   "language": "python",
   "name": "python3"
  },
  "language_info": {
   "codemirror_mode": {
    "name": "ipython",
    "version": 3
   },
   "file_extension": ".py",
   "mimetype": "text/x-python",
   "name": "python",
   "nbconvert_exporter": "python",
   "pygments_lexer": "ipython3",
   "version": "3.9.12"
  }
 },
 "nbformat": 4,
 "nbformat_minor": 2
}
